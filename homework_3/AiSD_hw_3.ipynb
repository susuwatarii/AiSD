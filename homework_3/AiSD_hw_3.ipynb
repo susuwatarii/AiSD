{
 "cells": [
  {
   "cell_type": "markdown",
   "id": "06aca8b8",
   "metadata": {},
   "source": [
    "Queue используется для обработки элементов в порядке их поступления, \n",
    "Deque позволяет работать с элементами как с начала, так и с конца"
   ]
  },
  {
   "cell_type": "markdown",
   "id": "a844ffd1",
   "metadata": {},
   "source": [
    "## 1)\n",
    "Реализовать простейший динамический массив, поддерживающий добавление элемента в конец массива при помощи метода append(e).\n",
    "Также должны поддерживаться следующие операции:\n",
    "\n",
    "- извлечение элемента по индексу;\n",
    "- устанавка нового значения по индексу;\n",
    "- получение текущей длины массива.\n",
    "\n",
    "1.1) Добавить реализацию удаления элемента из любого места массива и поддержку корректного вывода массива при помощи функции print.\n"
   ]
  },
  {
   "cell_type": "code",
   "execution_count": 3,
   "id": "375bba0f",
   "metadata": {},
   "outputs": [],
   "source": [
    "class DynArray(object):\n",
    "    def __init__(self):\n",
    "        # на основе списка\n",
    "        self.arr = []\n",
    "    \n",
    "    def append(self, element):\n",
    "        self.arr.append(element)\n",
    "    \n",
    "    def my_get(self, index):\n",
    "        if 0 <= index < len(self):\n",
    "            return self.arr[index]\n",
    "        return None\n",
    "\n",
    "    def my_set(self, index, value):\n",
    "        self.arr[index] = value\n",
    "    \n",
    "    def __len__(self):  # магический метод, который реализует len операцию\n",
    "        # len(o) для классов list, dict, tuple, ...напрямую вызывает ф-ию на С\n",
    "        # для остальных классов вызывает o.__len__()\n",
    "        return len(self.arr)\n",
    "    \n",
    "    def delete(self, index):\n",
    "        if 0 <= index < len(self):\n",
    "            self.arr.pop(index)\n",
    "    \n",
    "    def print_arr(self, message=None):\n",
    "        if message:\n",
    "            print(message, end=': ')\n",
    "        print(self.arr)\n"
   ]
  },
  {
   "cell_type": "code",
   "execution_count": 49,
   "id": "e3fcf2a1",
   "metadata": {},
   "outputs": [
    {
     "name": "stdout",
     "output_type": "stream",
     "text": [
      "[1, 2, 3]\n",
      "arr.get(1) -> 2\n",
      "arr.get(10) -> None\n",
      "arr.set(0,1000): [1000, 2, 3]\n",
      "len(arr) -> 3\n",
      "arr.delete(0): [2, 3]\n",
      "arr.delete(2): [2, 3]\n"
     ]
    }
   ],
   "source": [
    "arr = DynArray()\n",
    "\n",
    "arr.append(1)\n",
    "arr.append(2)\n",
    "arr.append(3)\n",
    "\n",
    "arr.print_arr()\n",
    "\n",
    "print('arr.get(1) ->', arr.my_get(1)) \n",
    "print('arr.get(10) ->', arr.my_get(10)) # не сущ-ет эл-та с таким индексом\n",
    "\n",
    "arr.my_set(0,1000)\n",
    "arr.print_arr('arr.set(0,1000)') \n",
    "\n",
    "print('len(arr) ->', len(arr))\n",
    "\n",
    "arr.delete(0)\n",
    "arr.print_arr('arr.delete(0)')\n",
    "arr.delete(2)\n",
    "arr.print_arr('arr.delete(2)')"
   ]
  },
  {
   "cell_type": "markdown",
   "id": "ebc2175b",
   "metadata": {},
   "source": [
    "## 2) \n",
    "Реализовать генератор, который возвращает значение поочередно извлекаемое из конца двух очередей (в качестве очереди используется deque из collections). Если очередь из которой извлекается элемент пуста - генератор заканчивает работу."
   ]
  },
  {
   "cell_type": "markdown",
   "id": "77ea159b",
   "metadata": {},
   "source": [
    "------------------------------------------------------------------------\n",
    "\n",
    "Генератор создается по принципу обычной функции.\n",
    "\n",
    "Отличие заключается в том, что вместо return используется инструкция yield.\n",
    "Она уведомляет интерпретатор Python о том, что это генератор, и возвращает итератор.\n",
    "\n"
   ]
  },
  {
   "cell_type": "code",
   "execution_count": 4,
   "id": "4d7ea7a6",
   "metadata": {},
   "outputs": [],
   "source": [
    "#Синтаксис функции генератора:\n",
    "def gen_func(args):\n",
    "    ...\n",
    "    while [cond]:\n",
    "        ...\n",
    "        yield [value]"
   ]
  },
  {
   "cell_type": "code",
   "execution_count": 2,
   "id": "d5af8a6c",
   "metadata": {},
   "outputs": [
    {
     "name": "stdout",
     "output_type": "stream",
     "text": [
      "deque(['a', 'b', 'c', 'd'])\n",
      "deque(['1', '2', '3', '4', '5', '6'])\n",
      "deque(['1', '2', '3', '4', '5', '6'])\n",
      "deque(['a', 'b', 'c', 'd', 'e', 'f'])\n",
      "\n",
      " <generator object my_gen_func at 0x00000190411DEFF0>\n",
      "dq1, dq2\n",
      "['d']['6']['c']['5']['b']['4']['a']['3']\n",
      "\n",
      " <generator object my_gen_func2 at 0x00000190411DF060>\n",
      "dq2, dq3\n",
      "['6']['f']['5']['e']['4']['d']['3']['c']['2']['b']['1']['a']"
     ]
    }
   ],
   "source": [
    "from collections import deque\n",
    "\n",
    "# dq = deque([iterable[, maxlen]])\n",
    "#     iterable - итерируемая последовательность,\n",
    "#     maxlen - int, максимальное кол-во хранимых записей.\n",
    "\n",
    "# Deque.pop():\n",
    "# удаляет и возвращает элемент с конца контейнера deque(). \n",
    "# Если элементы отсутствуют, возникает ошибка IndexError.\n",
    "\n",
    "dq_1 = deque('abcd')\n",
    "dq_2 = deque('123456')\n",
    "print(dq_1, dq_2, sep='\\n')\n",
    "dq_3 = deque('123456')\n",
    "dq_4 = deque('abcdef')\n",
    "print(dq_3, dq_4, sep='\\n')\n",
    "\n",
    "def my_gen_func(dq1, dq2):\n",
    "    flag = True\n",
    "    go = True\n",
    "    while go:\n",
    "        if flag:  # удаление из dq1\n",
    "            if not dq2: \n",
    "                go = False\n",
    "            yield[dq1.pop()]\n",
    "            flag = False\n",
    "        else:  # удаление из dq2\n",
    "            if not dq1: \n",
    "                go = False\n",
    "            yield [dq2.pop()]\n",
    "            flag = True\n",
    "\n",
    "\n",
    "# другая версия\n",
    "# yield - похож на return, но он НЕ прерывает выполнение генератора\n",
    "def my_gen_func2(dq1, dq2):\n",
    "    while dq1 and dq2:\n",
    "        yield[dq1.pop()]\n",
    "        yield [dq2.pop()]\n",
    "        \n",
    "            \n",
    "my_generator = my_gen_func(dq_1, dq_2)\n",
    "print('\\n', my_generator)\n",
    "print('dq1, dq2')\n",
    "for el in my_generator:\n",
    "    print(el, end='')\n",
    "    \n",
    "my_generator2 = my_gen_func2(dq_3, dq_4)\n",
    "print('\\n\\n', my_generator2)\n",
    "print('dq2, dq3')\n",
    "for el in my_generator2:\n",
    "    print(el, end='')"
   ]
  },
  {
   "cell_type": "markdown",
   "id": "c7cb7814",
   "metadata": {},
   "source": [
    "## 3)\n",
    "Реализовать классы с медодом action():\n",
    "\n",
    "а) Класс Pump - в методе action() извлекает очередное значение из генератора и помещает значение в очередь (очередь передается в конструктор).\n",
    "\n",
    "b) Класс MultiAction - при вызове метода action() n раз вызвает метод action() класса, переданного в конструкторе. Число n также определяется в конструкторе.\n",
    "\n",
    "c) Класс MultiPump - в методе action() извлекает очередное значение из генератора и помещает значение в одну из очередей (очереди передается в конструкторе); очереди , в которые помещаются очередные значения, меняются по порядку.\n"
   ]
  },
  {
   "cell_type": "code",
   "execution_count": 24,
   "id": "0a34e680",
   "metadata": {},
   "outputs": [],
   "source": [
    "from queue import Queue\n",
    "\n",
    "def my_gen():  # создаем простейший генератор\n",
    "    i = 0\n",
    "    while True:\n",
    "        yield(i)\n",
    "        i += 2"
   ]
  },
  {
   "cell_type": "code",
   "execution_count": 25,
   "id": "6cdd575b",
   "metadata": {},
   "outputs": [],
   "source": [
    "# a)\n",
    "\n",
    "class Pump(object):\n",
    "    def __init__(self, queue, generator):\n",
    "        self.queue = queue\n",
    "        self.generator = generator\n",
    "\n",
    "    def action(self):\n",
    "        value = next(self.generator)  # извлекает очередное значение из генератора \n",
    "        self.queue.put(value)"
   ]
  },
  {
   "cell_type": "code",
   "execution_count": 40,
   "id": "7032af09",
   "metadata": {},
   "outputs": [],
   "source": [
    "# b)\n",
    "\n",
    "class MultiAction(object):\n",
    "    def __init__(self, pumpclass_instance, n):\n",
    "        self.pumpclass_instance = pumpclass_instance  # объект класса Pump\n",
    "        self.n = n\n",
    "\n",
    "    def action(self):\n",
    "        # n раз вызвает метод action() класса Pump\n",
    "        for _ in range(self.n):\n",
    "            self.pumpclass_instance.action()  # сам вызов\n"
   ]
  },
  {
   "cell_type": "code",
   "execution_count": 47,
   "id": "ff68b6cd",
   "metadata": {},
   "outputs": [
    {
     "name": "stdout",
     "output_type": "stream",
     "text": [
      "0 2 4 6 8 10 12 14 16 18 \n",
      "---------------\n",
      "0 2 "
     ]
    }
   ],
   "source": [
    "# пример для class MultiAction\n",
    "\n",
    "q = Queue()\n",
    "\n",
    "pump1 = Pump(q, my_gen())\n",
    "m_action = MultiAction(pump1, 10)  \n",
    "m_action.action()\n",
    "while not q.empty():\n",
    "    print(q.get(), end=' ')\n",
    "\n",
    "print('\\n---------------')\n",
    "\n",
    "pump2 = Pump(q, my_gen())\n",
    "m_action = MultiAction(pump2, 2)  \n",
    "m_action.action()\n",
    "while not q.empty():\n",
    "    print(q.get(), end=' ')"
   ]
  },
  {
   "cell_type": "code",
   "execution_count": 109,
   "id": "4dbd67a2",
   "metadata": {},
   "outputs": [],
   "source": [
    "# c)\n",
    "\n",
    "class MultiPump(object):\n",
    "    def __init__(self, queues: list, generator):\n",
    "        self.queues = queues  # набор очередей\n",
    "        self.generator = generator\n",
    "        self.current_queue = 0\n",
    "    \n",
    "    def action(self):\n",
    "        value = next(self.generator)\n",
    "        self.queues[self.current_queue].put(value)  # в выбранную очередь добавляем элемент\n",
    "        self.current_queue = (self.current_queue + 1) % len(self.queues)"
   ]
  },
  {
   "cell_type": "code",
   "execution_count": 110,
   "id": "813edd0b",
   "metadata": {},
   "outputs": [
    {
     "name": "stdout",
     "output_type": "stream",
     "text": [
      "queue 1: 0 4 8 12 16 "
     ]
    }
   ],
   "source": [
    "# пример для class MultiPump\n",
    "\n",
    "queue1 = Queue()\n",
    "queue2 = Queue()\n",
    "        \n",
    "m_pump = MultiPump([queue1, queue2], my_gen())\n",
    "\n",
    "for _ in range(10):\n",
    "    m_pump.action()\n",
    "\n",
    "print('queue 1: ', end='')\n",
    "while not queue1.empty():\n",
    "    print(queue1.get(), end=' ')  # .get() - получаем, удаляем, возвращаем элемент из очереди  (начиная с начала)\n"
   ]
  },
  {
   "cell_type": "markdown",
   "id": "a6e7cbda",
   "metadata": {},
   "source": [
    "## 4) \n",
    "При помощи GenFromQ, Pump реализовать систему опработки сообщений.\n",
    "\n",
    "\n",
    "\n",
    "\n"
   ]
  },
  {
   "cell_type": "code",
   "execution_count": 121,
   "id": "e2134e59",
   "metadata": {},
   "outputs": [],
   "source": [
    "# класс Pump для помещения сообщений в очередь - из предыдущего задания\n",
    "\n",
    "# класс GenFromQ объединяет сообщения из нескольких очередей в одну\n",
    "class GenFromQ(object):\n",
    "    def __init__(self, queues):\n",
    "        self.queues = queues\n",
    "\n",
    "    def action(self):\n",
    "        msg_lst = []\n",
    "        for queue in self.queues:\n",
    "            while not queue.empty():\n",
    "                msg_lst.append(queue.get())\n",
    "        return msg_lst"
   ]
  },
  {
   "cell_type": "markdown",
   "id": "099c986e",
   "metadata": {},
   "source": [
    "\n",
    "Сообщения создаются генератором сообщений возвращающим случайным образорм одно из сообщений. "
   ]
  },
  {
   "cell_type": "code",
   "execution_count": 141,
   "id": "80f360f0",
   "metadata": {},
   "outputs": [],
   "source": [
    "from queue import Queue\n",
    "import random\n",
    "\n",
    "# генератор случайных сообщений\n",
    "def ran_msg_generator():\n",
    "    msg = ['Hi!', 'meow meow', 'hello', 'bon jour', ':)']\n",
    "    while True:\n",
    "        yield random.choice(msg)"
   ]
  },
  {
   "cell_type": "markdown",
   "id": "694f09da",
   "metadata": {},
   "source": [
    "\n",
    "Сообщения из трех генераторов закачиваются в три очереди при помощи классов Pump, "
   ]
  },
  {
   "cell_type": "code",
   "execution_count": 142,
   "id": "b0507b0a",
   "metadata": {},
   "outputs": [],
   "source": [
    "#три очереди и три объекта Pump для разных генераторов сообщений\n",
    "queue1 = Queue()\n",
    "queue2 = Queue()\n",
    "queue3 = Queue()\n",
    "\n",
    "pump1 = Pump(queue1, ran_msg_generator())\n",
    "pump2 = Pump(queue2, ran_msg_generator())\n",
    "pump3 = Pump(queue3, ran_msg_generator())\n",
    "\n",
    "pump1.action()\n",
    "pump1.action()\n",
    "pump1.action()\n",
    "pump2.action()\n",
    "pump3.action()"
   ]
  },
  {
   "cell_type": "markdown",
   "id": "bc0629dc",
   "metadata": {},
   "source": [
    "\n",
    "далее при помощи GenFromQ и Pump объединяются в одну очередь "
   ]
  },
  {
   "cell_type": "code",
   "execution_count": 143,
   "id": "7ea88c78",
   "metadata": {},
   "outputs": [],
   "source": [
    "gen_from_q = GenFromQ([queue1, queue2, queue3])"
   ]
  },
  {
   "cell_type": "markdown",
   "id": "4fa3c161",
   "metadata": {},
   "source": [
    "и выводятся на экран \n",
    "\n",
    "(можно реализовать при помощи класса с action и вызываемого при помощи MultiPump)."
   ]
  },
  {
   "cell_type": "code",
   "execution_count": 144,
   "id": "a86df358",
   "metadata": {},
   "outputs": [
    {
     "name": "stdout",
     "output_type": "stream",
     "text": [
      "bon jour\n",
      "hello\n",
      ":)\n",
      "meow meow\n",
      ":)\n"
     ]
    }
   ],
   "source": [
    "\n",
    "merged_messages = gen_from_q.action()\n",
    "\n",
    "for msg in merged_messages:\n",
    "    print(msg)"
   ]
  }
 ],
 "metadata": {
  "kernelspec": {
   "display_name": "Python 3 (ipykernel)",
   "language": "python",
   "name": "python3"
  },
  "language_info": {
   "codemirror_mode": {
    "name": "ipython",
    "version": 3
   },
   "file_extension": ".py",
   "mimetype": "text/x-python",
   "name": "python",
   "nbconvert_exporter": "python",
   "pygments_lexer": "ipython3",
   "version": "3.10.9"
  }
 },
 "nbformat": 4,
 "nbformat_minor": 5
}
