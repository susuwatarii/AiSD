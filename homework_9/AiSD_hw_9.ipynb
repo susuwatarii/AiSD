{
 "cells": [
  {
   "cell_type": "markdown",
   "id": "3bc6741f",
   "metadata": {},
   "source": [
    "задание 35\n",
    "\n",
    "вариант 2\n",
    "\n",
    "Создайте двусвязный список для хранения информации о покупках в интернетмагазине. Каждый элемент списка должен содержать название товара, цену, количество и дату покупки."
   ]
  },
  {
   "cell_type": "code",
   "execution_count": 10,
   "id": "9534650c",
   "metadata": {},
   "outputs": [],
   "source": [
    "class Purchase(object):\n",
    "    # класс для хранения информации о покупке\n",
    "    def __init__(self, item_name, price, quantity, purchase_date):\n",
    "        self.item_name = item_name\n",
    "        self.price = price\n",
    "        self.quantity = quantity\n",
    "        self.purchase_date = purchase_date\n",
    "\n",
    "        \n",
    "class Node(object):\n",
    "    # класс узел для списка\n",
    "    def __init__(self, purchase):\n",
    "        self.purchase = purchase\n",
    "        self.next = None\n",
    "        self.prev = None\n",
    "\n",
    "        \n",
    "class DoublyLinkedList(object):\n",
    "    def __init__(self):\n",
    "        self.head = None\n",
    "        self.tail = None\n",
    "\n",
    "    def append(self, purchase):\n",
    "        new_node = Node(purchase)\n",
    "        if self.head is None:\n",
    "            self.head = new_node\n",
    "            self.tail = new_node\n",
    "        else:\n",
    "            new_node.prev = self.tail\n",
    "            self.tail.next = new_node\n",
    "            self.tail = new_node\n",
    "\n",
    "    def display(self):\n",
    "        if self.head is None:\n",
    "            print(\"Список покупок пуст.\")\n",
    "            return\n",
    "\n",
    "        current = self.head\n",
    "        while current is not None:\n",
    "            print(f\"Товар: {current.purchase.item_name}, Цена: {current.purchase.price}, Количество: {current.purchase.quantity}, Дата: {current.purchase.purchase_date}\")\n",
    "            current = current.next\n",
    "            "
   ]
  },
  {
   "cell_type": "code",
   "execution_count": 11,
   "id": "2e229c72",
   "metadata": {},
   "outputs": [
    {
     "name": "stdout",
     "output_type": "stream",
     "text": [
      "Товар: Ноутбук, Цена: 50000, Количество: 1, Дата: 2023-05-01\n",
      "Товар: Смартфон, Цена: 25000, Количество: 2, Дата: 2023-05-05\n",
      "Товар: Наушники, Цена: 3000, Количество: 1, Дата: 2023-05-10\n"
     ]
    }
   ],
   "source": [
    "purchases = DoublyLinkedList()\n",
    "purchases.append(Purchase(\"Ноутбук\", 50000, 1, \"2023-05-01\"))\n",
    "purchases.append(Purchase(\"Смартфон\", 25000, 2, \"2023-05-05\"))\n",
    "purchases.append(Purchase(\"Наушники\", 3000, 1, \"2023-05-10\"))\n",
    "\n",
    "purchases.display()\n"
   ]
  },
  {
   "cell_type": "markdown",
   "id": "c64f09df",
   "metadata": {},
   "source": [
    "задание 36\n",
    "\n",
    "вариант 2\n",
    "\n",
    "Реализовать функцию, которая объединяет два отсортированных двусвязных списка в один отсортированный список."
   ]
  },
  {
   "cell_type": "code",
   "execution_count": 2,
   "id": "adb7651d",
   "metadata": {},
   "outputs": [],
   "source": [
    "class Node(object):\n",
    "    # класс узел для списка\n",
    "    def __init__(self, data):\n",
    "        self.data = data\n",
    "        self.next = None\n",
    "        self.prev = None\n",
    "\n",
    "        \n",
    "class DoublyLinkedList(object):\n",
    "    def __init__(self):\n",
    "        self.head = None\n",
    "        self.tail = None\n",
    "\n",
    "    def append(self, data):\n",
    "        new_node = Node(data)\n",
    "        if self.head is None:\n",
    "            self.head = new_node\n",
    "            self.tail = new_node\n",
    "        else:\n",
    "            new_node.prev = self.tail\n",
    "            self.tail.next = new_node\n",
    "            self.tail = new_node\n",
    "\n",
    "    def merge_sorted_lists(self, list1, list2):\n",
    "        if list1.head is None:\n",
    "            return list2\n",
    "        if list2.head is None:\n",
    "            return list1\n",
    "\n",
    "        merged_list = DoublyLinkedList()\n",
    "        curr1 = list1.head\n",
    "        curr2 = list2.head\n",
    "\n",
    "        while curr1 is not None and curr2 is not None:\n",
    "            if curr1.data <= curr2.data:\n",
    "                merged_list.append(curr1.data)\n",
    "                curr1 = curr1.next\n",
    "            else:\n",
    "                merged_list.append(curr2.data)\n",
    "                curr2 = curr2.next\n",
    "\n",
    "        while curr1 is not None:\n",
    "            merged_list.append(curr1.data)\n",
    "            curr1 = curr1.next\n",
    "\n",
    "        while curr2 is not None:\n",
    "            merged_list.append(curr2.data)\n",
    "            curr2 = curr2.next\n",
    "\n",
    "        return merged_list\n"
   ]
  },
  {
   "cell_type": "code",
   "execution_count": 3,
   "id": "b143d05b",
   "metadata": {},
   "outputs": [
    {
     "name": "stdout",
     "output_type": "stream",
     "text": [
      "1\n",
      "2\n",
      "3\n",
      "4\n",
      "5\n",
      "6\n"
     ]
    }
   ],
   "source": [
    "# Создаем два отдельных двусвязных списка\n",
    "list1 = DoublyLinkedList()\n",
    "list1.append(1)\n",
    "list1.append(3)\n",
    "list1.append(5)\n",
    "\n",
    "list2 = DoublyLinkedList()\n",
    "list2.append(2)\n",
    "list2.append(4)\n",
    "list2.append(6)\n",
    "\n",
    "# Объединяем два списка в один отсортированный\n",
    "merged_list = list1.merge_sorted_lists(list1, list2)\n",
    "\n",
    "# Выводим содержимое объединенного списка\n",
    "current_node = merged_list.head\n",
    "while current_node is not None:\n",
    "    print(current_node.data)\n",
    "    current_node = current_node.next"
   ]
  },
  {
   "cell_type": "markdown",
   "id": "78df0ffc",
   "metadata": {},
   "source": [
    "задание 37\n",
    "\n",
    "вариант 2\n",
    "\n",
    "Реализовать функцию, которая перемещает заданное количество элементов из начала циклического двусвязного списка в его конец."
   ]
  },
  {
   "cell_type": "code",
   "execution_count": 4,
   "id": "829647fa",
   "metadata": {},
   "outputs": [],
   "source": [
    "class Node:\n",
    "    # класс узел для списка\n",
    "    def __init__(self, data):\n",
    "        self.data = data\n",
    "        self.next = None\n",
    "        self.prev = None\n",
    "\n",
    "class CircularDoublyLinkedList:\n",
    "    def __init__(self):\n",
    "        self.head = None\n",
    "        self.tail = None\n",
    "\n",
    "    def append(self, data):\n",
    "        new_node = Node(data)\n",
    "        if self.head is None:\n",
    "            self.head = new_node\n",
    "            self.tail = new_node\n",
    "            self.head.next = self.head\n",
    "            self.head.prev = self.head\n",
    "        else:\n",
    "            new_node.prev = self.tail\n",
    "            new_node.next = self.head\n",
    "            self.tail.next = new_node\n",
    "            self.head.prev = new_node\n",
    "            self.tail = new_node\n",
    "\n",
    "    def move_to_end(self, n):\n",
    "        if self.head is None or n <= 0:\n",
    "            return\n",
    "\n",
    "        # Перемещаем n элементов из начала в конец\n",
    "        for i in range(n):\n",
    "            # Сохраняем первый элемент\n",
    "            first = self.head\n",
    "            # Перемещаем указатели\n",
    "            self.head = self.head.next\n",
    "            self.tail.next = first\n",
    "            first.prev = self.tail\n",
    "            self.tail = first\n",
    "            self.tail.next = self.head\n",
    "            self.head.prev = self.tail\n",
    "            "
   ]
  },
  {
   "cell_type": "code",
   "execution_count": 5,
   "id": "3d73aa17",
   "metadata": {
    "scrolled": true
   },
   "outputs": [
    {
     "name": "stdout",
     "output_type": "stream",
     "text": [
      "1\n",
      "2\n",
      "3\n",
      "4\n",
      "5\n",
      "\n",
      "3\n",
      "4\n",
      "5\n",
      "1\n",
      "2\n"
     ]
    }
   ],
   "source": [
    "# Создаем циркулярный двусвязный список\n",
    "cdll = CircularDoublyLinkedList()\n",
    "cdll.append(1)\n",
    "cdll.append(2)\n",
    "cdll.append(3)\n",
    "cdll.append(4)\n",
    "cdll.append(5)\n",
    "\n",
    "# Выводим элементы списка\n",
    "current_node = cdll.head\n",
    "while True:\n",
    "    print(current_node.data)\n",
    "    current_node = current_node.next\n",
    "    if current_node == cdll.head:\n",
    "        break\n",
    "print()\n",
    "\n",
    "# Перемещаем 2 элемента из начала в конец\n",
    "cdll.move_to_end(2)\n",
    "\n",
    "# Выводим элементы списка после перемещения\n",
    "current_node = cdll.head\n",
    "while True:\n",
    "    print(current_node.data)\n",
    "    current_node = current_node.next\n",
    "    if current_node == cdll.head:\n",
    "        break\n"
   ]
  }
 ],
 "metadata": {
  "kernelspec": {
   "display_name": "Python 3 (ipykernel)",
   "language": "python",
   "name": "python3"
  },
  "language_info": {
   "codemirror_mode": {
    "name": "ipython",
    "version": 3
   },
   "file_extension": ".py",
   "mimetype": "text/x-python",
   "name": "python",
   "nbconvert_exporter": "python",
   "pygments_lexer": "ipython3",
   "version": "3.11.5"
  }
 },
 "nbformat": 4,
 "nbformat_minor": 5
}
