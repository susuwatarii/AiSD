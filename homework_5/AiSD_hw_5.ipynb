{
 "cells": [
  {
   "cell_type": "code",
   "execution_count": 33,
   "id": "4797dcef",
   "metadata": {},
   "outputs": [],
   "source": [
    "list_1 = ['1', '123', '123', '12', '1', '123']\n",
    "list_2 = [2, 4, -2, -3, 0 , 11 , 3 -1]\n",
    "\n",
    "dict_4 = {1: 10, 2: 20, 3: 30, 4: 40, 5: 50, 6: 60}\n",
    "dict_5 = {'a': 3, 'b': 4, 'c': 5, 'd': 6, 'e': 7, 'f': 8, 'g': 9}\n",
    "dict_6 = {'e': 20, 'f': 21, 'g': 22, 'h': 23, 'i': 24, 'j': 25, 'k': 26, 'l': 27}\n"
   ]
  },
  {
   "cell_type": "markdown",
   "id": "f5af95ed",
   "metadata": {},
   "source": [
    "4.13) Используюя список l1 создать список, в ктором каждый элемент списка l1 будет заменен значением длинны строки соответствующего элемента в списке l1. Использовать генераторы, решить задачу в одну строку."
   ]
  },
  {
   "cell_type": "code",
   "execution_count": 34,
   "id": "9531cfba",
   "metadata": {},
   "outputs": [
    {
     "data": {
      "text/plain": [
       "[1, 3, 3, 2, 1, 3]"
      ]
     },
     "execution_count": 34,
     "metadata": {},
     "output_type": "execute_result"
    }
   ],
   "source": [
    "[len(i) for i in list_1]"
   ]
  },
  {
   "cell_type": "markdown",
   "id": "2c8a765a",
   "metadata": {},
   "source": [
    "4.14) Подсчитать количество строк в списке l1, длина которых больше 2х. Использовать генераторы, решить задачу в одну строку."
   ]
  },
  {
   "cell_type": "code",
   "execution_count": 35,
   "id": "75c74d17",
   "metadata": {},
   "outputs": [
    {
     "data": {
      "text/plain": [
       "3"
      ]
     },
     "execution_count": 35,
     "metadata": {},
     "output_type": "execute_result"
    }
   ],
   "source": [
    "len([i for i in list_1 if len(i)>2])"
   ]
  },
  {
   "cell_type": "markdown",
   "id": "862e3503",
   "metadata": {},
   "source": [
    "4.15) Просуммировать произведение ключей на значения словаря d4."
   ]
  },
  {
   "cell_type": "code",
   "execution_count": 38,
   "id": "a2f904c2",
   "metadata": {},
   "outputs": [
    {
     "data": {
      "text/plain": [
       "910"
      ]
     },
     "execution_count": 38,
     "metadata": {},
     "output_type": "execute_result"
    }
   ],
   "source": [
    "sum([k*v for k, v in dict_4.items()])"
   ]
  },
  {
   "cell_type": "markdown",
   "id": "fdd82057",
   "metadata": {},
   "source": [
    "4.16) На базе словаря d6 составить словарь d7 в котором нет пар ключ-значение с ключами, встречающимися в словаре d5. Использовать генераторы, решить задачу в одну строку."
   ]
  },
  {
   "cell_type": "code",
   "execution_count": 43,
   "id": "8cbfc632",
   "metadata": {},
   "outputs": [
    {
     "name": "stdout",
     "output_type": "stream",
     "text": [
      "{'e': 20, 'f': 21, 'g': 22, 'h': 23, 'i': 24, 'j': 25, 'k': 26, 'l': 27}\n",
      "{'a': 3, 'b': 4, 'c': 5, 'd': 6, 'e': 7, 'f': 8, 'g': 9}\n",
      "{'h': 23, 'i': 24, 'j': 25, 'k': 26, 'l': 27}\n"
     ]
    }
   ],
   "source": [
    "print(dict_6)\n",
    "print(dict_5)\n",
    "print({k: v for k, v in dict_6.items() if k not in dict_5.keys()})"
   ]
  },
  {
   "cell_type": "markdown",
   "id": "682fa416",
   "metadata": {},
   "source": [
    "4.17) Создать список, в котором все числа списка l2 умножены на их номер в списке, остальные элементы сохранены на своих местах. Использовать генераторы, решить задачу в одну строку."
   ]
  },
  {
   "cell_type": "code",
   "execution_count": 56,
   "id": "40722af5",
   "metadata": {},
   "outputs": [
    {
     "name": "stdout",
     "output_type": "stream",
     "text": [
      "[0, 4, -4, -9, 'meow', 0, 66, 'hi', 16]\n"
     ]
    }
   ],
   "source": [
    "list_5 = [2, 4, -2, -3, 'meow', 0, 11, 'hi', 2]\n",
    "print([i*list_5[i] if isinstance(list_5[i], int) else list_5[i] for i in range(len(list_5))])"
   ]
  },
  {
   "cell_type": "code",
   "execution_count": 57,
   "id": "24662566",
   "metadata": {},
   "outputs": [
    {
     "data": {
      "text/plain": [
       "[0, 4, -4, -9, 'meow', 0, 66, 'hi', 16]"
      ]
     },
     "execution_count": 57,
     "metadata": {},
     "output_type": "execute_result"
    }
   ],
   "source": [
    "[item * index if isinstance(item, int) else item for index, item in enumerate(list_5)]"
   ]
  },
  {
   "cell_type": "markdown",
   "id": "5bd63580",
   "metadata": {},
   "source": [
    "4.18) Создать список, в котором все отрицательные числа списка l2 исключены, остальные элементы сохранены на своих местах. Использовать генераторы, решить задачу в одну строку."
   ]
  },
  {
   "cell_type": "code",
   "execution_count": 67,
   "id": "03f7578d",
   "metadata": {},
   "outputs": [
    {
     "name": "stdout",
     "output_type": "stream",
     "text": [
      "[2, 4, -2, -3, 'meow', 0, 11, 'hi', 2]\n",
      "[2, 4, 'meow', 0, 11, 'hi', 2]\n"
     ]
    }
   ],
   "source": [
    "print(list_5)\n",
    "print([i for i in list_5 if isinstance(i, int) and i >= 0 or not isinstance(i, int)])"
   ]
  },
  {
   "cell_type": "code",
   "execution_count": 68,
   "id": "d8f23093",
   "metadata": {},
   "outputs": [
    {
     "name": "stdout",
     "output_type": "stream",
     "text": [
      "[2, 4, 'meow', 0, 11, 'hi', 2]\n"
     ]
    }
   ],
   "source": [
    "print([item for item in list_5 if not (isinstance(item, int) and item < 0)])"
   ]
  },
  {
   "cell_type": "markdown",
   "id": "d255034e",
   "metadata": {},
   "source": [
    "4.19) Создать список, в котором все отрицательные числа списка l2 заменены на их номер в списке, остальные элементы сохранены на своих местах. Использовать генераторы и тернарный оператор, решить задачу в одну строку."
   ]
  },
  {
   "cell_type": "code",
   "execution_count": 69,
   "id": "49507a34",
   "metadata": {},
   "outputs": [
    {
     "name": "stdout",
     "output_type": "stream",
     "text": [
      "[2, 4, -2, -3, 'meow', 0, 11, 'hi', 2]\n",
      "[2, 4, 2, 3, 'meow', 0, 11, 'hi', 2]\n"
     ]
    }
   ],
   "source": [
    "print(list_5)\n",
    "print([i if isinstance(list_5[i], int) and list_5[i] < 0 else list_5[i] for i in range(len(list_5))])"
   ]
  },
  {
   "cell_type": "code",
   "execution_count": 70,
   "id": "a13f71b8",
   "metadata": {},
   "outputs": [
    {
     "data": {
      "text/plain": [
       "[2, 4, 2, 3, 'meow', 0, 11, 'hi', 2]"
      ]
     },
     "execution_count": 70,
     "metadata": {},
     "output_type": "execute_result"
    }
   ],
   "source": [
    "[index if isinstance(item, int) and item < 0  else item for index, item in enumerate(list_5)]"
   ]
  },
  {
   "cell_type": "markdown",
   "id": "ebaab5da",
   "metadata": {},
   "source": [
    "5.1) Написать задокументированную функцию умножения двух чисел. Для каких типов данная функция будет возвращать практически ценный результат? Написать примеры использования этой функции."
   ]
  },
  {
   "cell_type": "code",
   "execution_count": 74,
   "id": "bb8dbc41",
   "metadata": {},
   "outputs": [
    {
     "name": "stdout",
     "output_type": "stream",
     "text": [
      "\n",
      "    Возвращает произведение двух чисел.\n",
      "            Параметры:\n",
      "                    a (int, float): первое число\n",
      "                    b (int, float): второе число\n",
      "            Возвращаемое значение:\n",
      "                    int, float: произведение a и b\n",
      "    \n"
     ]
    }
   ],
   "source": [
    "def multiply(a, b):\n",
    "    '''\n",
    "    Возвращает произведение двух чисел.\n",
    "            Параметры:\n",
    "                    a (int, float): первое число\n",
    "                    b (int, float): второе число\n",
    "            Возвращаемое значение:\n",
    "                    int, float: произведение a и b\n",
    "    '''\n",
    "    return a * b\n",
    "\n",
    "print(multiply.__doc__)"
   ]
  },
  {
   "cell_type": "code",
   "execution_count": 75,
   "id": "a1284aa3",
   "metadata": {},
   "outputs": [
    {
     "name": "stdout",
     "output_type": "stream",
     "text": [
      "12\n",
      "-12.0\n",
      "-12.0\n",
      "12.0\n"
     ]
    }
   ],
   "source": [
    "print(multiply(3, 4))\n",
    "print(multiply(-3.0, 4))\n",
    "print(multiply(-3, 4.0))\n",
    "print(multiply(3.0, 4.0))"
   ]
  },
  {
   "cell_type": "markdown",
   "id": "eb9e2a4f",
   "metadata": {},
   "source": [
    "5.2) Написать функцию умножения принимающую от одного до трех параметров. Написать примеры использования этой функции с разным количеством параметров."
   ]
  },
  {
   "cell_type": "code",
   "execution_count": 83,
   "id": "56b1c3b1",
   "metadata": {},
   "outputs": [
    {
     "name": "stdout",
     "output_type": "stream",
     "text": [
      "3\n",
      "18\n",
      "180\n"
     ]
    },
    {
     "ename": "TypeError",
     "evalue": "multiply() takes from 1 to 3 positional arguments but 4 were given",
     "output_type": "error",
     "traceback": [
      "\u001b[1;31m---------------------------------------------------------------------------\u001b[0m",
      "\u001b[1;31mTypeError\u001b[0m                                 Traceback (most recent call last)",
      "Cell \u001b[1;32mIn[83], line 13\u001b[0m\n\u001b[0;32m     11\u001b[0m \u001b[38;5;28mprint\u001b[39m(multiply(\u001b[38;5;241m3\u001b[39m, \u001b[38;5;241m6\u001b[39m))\n\u001b[0;32m     12\u001b[0m \u001b[38;5;28mprint\u001b[39m(multiply(\u001b[38;5;241m3\u001b[39m, \u001b[38;5;241m6\u001b[39m, \u001b[38;5;241m10\u001b[39m))\n\u001b[1;32m---> 13\u001b[0m \u001b[38;5;28mprint\u001b[39m(multiply(\u001b[38;5;241m3\u001b[39m, \u001b[38;5;241m6\u001b[39m, \u001b[38;5;241m10\u001b[39m, \u001b[38;5;241m100\u001b[39m))\n",
      "\u001b[1;31mTypeError\u001b[0m: multiply() takes from 1 to 3 positional arguments but 4 were given"
     ]
    }
   ],
   "source": [
    "def multiply(a, b=None, c=None):\n",
    "    if c:\n",
    "        return a * b * c\n",
    "    elif b:\n",
    "        return a * b\n",
    "    else:\n",
    "        return a\n",
    "\n",
    "\n",
    "print(multiply(3))\n",
    "print(multiply(3, 6))\n",
    "print(multiply(3, 6, 10))\n",
    "print(multiply(3, 6, 10, 100))"
   ]
  },
  {
   "cell_type": "code",
   "execution_count": 82,
   "id": "97548d29",
   "metadata": {},
   "outputs": [
    {
     "name": "stdout",
     "output_type": "stream",
     "text": [
      "3\n",
      "18\n",
      "180\n"
     ]
    },
    {
     "ename": "AssertionError",
     "evalue": "",
     "output_type": "error",
     "traceback": [
      "\u001b[1;31m---------------------------------------------------------------------------\u001b[0m",
      "\u001b[1;31mAssertionError\u001b[0m                            Traceback (most recent call last)",
      "Cell \u001b[1;32mIn[82], line 12\u001b[0m\n\u001b[0;32m     10\u001b[0m \u001b[38;5;28mprint\u001b[39m(multiply(\u001b[38;5;241m3\u001b[39m, \u001b[38;5;241m6\u001b[39m))\n\u001b[0;32m     11\u001b[0m \u001b[38;5;28mprint\u001b[39m(multiply(\u001b[38;5;241m3\u001b[39m, \u001b[38;5;241m6\u001b[39m, \u001b[38;5;241m10\u001b[39m))\n\u001b[1;32m---> 12\u001b[0m \u001b[38;5;28mprint\u001b[39m(multiply(\u001b[38;5;241m3\u001b[39m, \u001b[38;5;241m6\u001b[39m, \u001b[38;5;241m10\u001b[39m, \u001b[38;5;241m100\u001b[39m))\n",
      "Cell \u001b[1;32mIn[82], line 2\u001b[0m, in \u001b[0;36mmultiply\u001b[1;34m(*args)\u001b[0m\n\u001b[0;32m      1\u001b[0m \u001b[38;5;28;01mdef\u001b[39;00m \u001b[38;5;21mmultiply\u001b[39m(\u001b[38;5;241m*\u001b[39margs):\n\u001b[1;32m----> 2\u001b[0m     \u001b[38;5;28;01massert\u001b[39;00m \u001b[38;5;28mlen\u001b[39m(args) \u001b[38;5;241m<\u001b[39m \u001b[38;5;241m4\u001b[39m\n\u001b[0;32m      3\u001b[0m     res \u001b[38;5;241m=\u001b[39m \u001b[38;5;241m1\u001b[39m\n\u001b[0;32m      4\u001b[0m     \u001b[38;5;28;01mfor\u001b[39;00m num \u001b[38;5;129;01min\u001b[39;00m args:\n",
      "\u001b[1;31mAssertionError\u001b[0m: "
     ]
    }
   ],
   "source": [
    "def multiply(*args):\n",
    "    assert len(args) < 4\n",
    "    res = 1\n",
    "    for num in args:\n",
    "        res *= num\n",
    "    return res\n",
    "\n",
    "\n",
    "print(multiply(3))\n",
    "print(multiply(3, 6))\n",
    "print(multiply(3, 6, 10))\n",
    "print(multiply(3, 6, 10, 100))"
   ]
  },
  {
   "cell_type": "markdown",
   "id": "7a19efca",
   "metadata": {},
   "source": [
    "5.3) Функцию из задания 2 вызвать с приведенными ниже аргументами. Для случая a4 выбрать 3 первых и 3 последних значения."
   ]
  },
  {
   "cell_type": "code",
   "execution_count": 84,
   "id": "f62d6959",
   "metadata": {},
   "outputs": [],
   "source": [
    "arg_1 = (15, 10 ,5)\n",
    "arg_2 = (3, 1)\n",
    "arg_3 = [2, 35, 55]\n",
    "arg_4 = (5, 10 ,15, 20)"
   ]
  },
  {
   "cell_type": "code",
   "execution_count": 90,
   "id": "f8a041b9",
   "metadata": {},
   "outputs": [
    {
     "name": "stdout",
     "output_type": "stream",
     "text": [
      "750\n",
      "3\n",
      "3850\n",
      "750\n",
      "3000\n"
     ]
    }
   ],
   "source": [
    "print(multiply(*arg_1))\n",
    "print(multiply(*arg_2))\n",
    "print(multiply(*arg_3))\n",
    "print(multiply(*arg_4[:3]))\n",
    "print(multiply(*arg_4[-3:]))"
   ]
  },
  {
   "cell_type": "markdown",
   "id": "9973d5a4",
   "metadata": {},
   "source": [
    "5.4) Реализовать функцию умножения, принимающую неограниченное количество значений. Написать примеры использования этой функции, в том числе с аргументами из задания 3."
   ]
  },
  {
   "cell_type": "code",
   "execution_count": 92,
   "id": "b0d69d42",
   "metadata": {},
   "outputs": [
    {
     "name": "stdout",
     "output_type": "stream",
     "text": [
      "750\n",
      "3\n",
      "3850\n",
      "15000\n",
      "720\n"
     ]
    }
   ],
   "source": [
    "def multiply(*args):\n",
    "    res = 1\n",
    "    for num in args:\n",
    "        res *= num\n",
    "    return res\n",
    "\n",
    "\n",
    "print(multiply(*arg_1))\n",
    "print(multiply(*arg_2))\n",
    "print(multiply(*arg_3))\n",
    "print(multiply(*arg_4))\n",
    "print(multiply(1,2,3,4,5,6))"
   ]
  },
  {
   "cell_type": "markdown",
   "id": "82116801",
   "metadata": {},
   "source": [
    "5.5) Реализовать функции для выполнения четырех арифмитических операций преобразующих целые числа в целое число. Для двух заранее заданных целых чисел выполнить выбранную пользователем арифметическую операцию."
   ]
  },
  {
   "cell_type": "code",
   "execution_count": 99,
   "id": "58bdd3bc",
   "metadata": {},
   "outputs": [
    {
     "name": "stdout",
     "output_type": "stream",
     "text": [
      "Выберите операцию 20 (+, -, *, /) 5 : *\n",
      "100\n"
     ]
    }
   ],
   "source": [
    "def int_sum(x, y):\n",
    "    return x + y\n",
    "\n",
    "\n",
    "def int_sub(x, y):\n",
    "    return x - y\n",
    "\n",
    "\n",
    "def int_mult(x, y):\n",
    "    return x * y\n",
    "\n",
    "\n",
    "def int_div(x, y):\n",
    "    if y != 0:\n",
    "        return x // y\n",
    "    else:\n",
    "        return 'Деление на ноль невозможно'\n",
    "\n",
    "\n",
    "num_1 = 20\n",
    "num_2 = 5\n",
    "\n",
    "operation = input(f'Выберите операцию {num_1} (+, -, *, /) {num_2} : ')\n",
    "\n",
    "if operation == '+':\n",
    "    res = int_sum(num_1, num_2)\n",
    "elif operation == '-':\n",
    "    res = int_sub(num_1, num_2)\n",
    "elif operation == '*':\n",
    "    res = int_mult(num_1, num_2)\n",
    "elif operation == '/':\n",
    "    res = int_div(num_1, num_2)\n",
    "else:\n",
    "    res = 'Некорректная операция'\n",
    "\n",
    "print(res)\n"
   ]
  },
  {
   "cell_type": "markdown",
   "id": "0c42f733",
   "metadata": {},
   "source": [
    "5.6) Написать калькулятор для строковых выражений вида '<число> <операция> <число>', где <число> - целое число, например 113, <арифмитическая операция> - одна из операций +,-,*,/(деление нацело),%(остаток от деления),^(возведение в степень). Пример calc('13 - 5') -> 8"
   ]
  },
  {
   "cell_type": "code",
   "execution_count": 116,
   "id": "788f9c3f",
   "metadata": {},
   "outputs": [
    {
     "name": "stdout",
     "output_type": "stream",
     "text": [
      "8\n"
     ]
    }
   ],
   "source": [
    "print(eval('2^10'))"
   ]
  },
  {
   "cell_type": "code",
   "execution_count": 118,
   "id": "a6c0e184",
   "metadata": {},
   "outputs": [
    {
     "name": "stdout",
     "output_type": "stream",
     "text": [
      "1024\n",
      "-8\n",
      "12\n",
      "2\n",
      "0.2\n",
      "20\n"
     ]
    }
   ],
   "source": [
    "def my_calc(s_exp):\n",
    "    s_exp = s_exp.replace('^','**')  # обязательно присвоить новое значение s_exp\n",
    "    return eval(s_exp)\n",
    "\n",
    "\n",
    "print(my_calc('2 ^ 10'))\n",
    "print(my_calc('2 - 10'))\n",
    "print(my_calc('2 + 10'))\n",
    "print(my_calc('2%10'))\n",
    "print(my_calc('2/10'))\n",
    "print(my_calc('2*10'))"
   ]
  },
  {
   "cell_type": "markdown",
   "id": "6eda23dc",
   "metadata": {},
   "source": [
    "5.7) Реализовать функцию которая выводит на экран сообщение вида:\n",
    "'Автомобиль марки: BMW, модели: X5, цвета: белый, 2006 года выпуска, с пробегом: 215 000 км, c номерным знаком: X012АМ77, цена: 1 115 000 руб.'\n",
    "В функцию передаются именованные параметры изменяемой части сообщения, лубой из параметров может быть не задан пользователем функции и автоматически заменен на разумное сообщение в соответствующей части строки. Получить вывод текстового сообщения для словарей c1, c2.\n"
   ]
  },
  {
   "cell_type": "code",
   "execution_count": 119,
   "id": "f54cd358",
   "metadata": {},
   "outputs": [
    {
     "name": "stdout",
     "output_type": "stream",
     "text": [
      "Автомобиль марки: BMW, модели: X5, цвета: белый, 2006 года выпуска, с пробегом: 215 000 км, с номерным знаком: X012AM77, цена: 1 115 000 руб.\n",
      "Автомобиль марки: не указана, модели: не указана, цвета: серебристый, 2015 года выпуска, с пробегом: не указан км, с номерным знаком: не указан, цена: 2 800 000 руб.\n"
     ]
    }
   ],
   "source": [
    "def car_info(marque='не указана', model='не указана', color='не указан', year='не указан', mileage='не указан', plate='не указан', price='не указан'):\n",
    "    print(f\"Автомобиль марки: {marque}, модели: {model}, цвета: {color}, {year} года выпуска, с пробегом: {mileage} км, с номерным знаком: {plate}, цена: {price} руб.\")\n",
    "\n",
    "\n",
    "car_1 = {\n",
    "    'marque': 'BMW',\n",
    "    'model': 'X5',\n",
    "    'color': 'белый',\n",
    "    'year': '2006',\n",
    "    'mileage': '215 000',\n",
    "    'plate': 'X012AM77',\n",
    "    'price': '1 115 000'\n",
    "    }\n",
    "\n",
    "car_2 = {\n",
    "    'color': 'серебристый',\n",
    "    'year': '2015',\n",
    "    'price': '2 800 000'\n",
    "    }\n",
    "\n",
    "car_info(**car_1)\n",
    "car_info(**car_2)"
   ]
  },
  {
   "cell_type": "markdown",
   "id": "ab822ee0",
   "metadata": {},
   "source": [
    "5.8) Написать функцию, которая преобразует целое число (от 0 до 99) в текстовое написание числа на русском языке. Пример: to_text(15) -> 'Пятнадцать'"
   ]
  },
  {
   "cell_type": "code",
   "execution_count": 120,
   "id": "ea26f49f",
   "metadata": {},
   "outputs": [
    {
     "name": "stdout",
     "output_type": "stream",
     "text": [
      "тридцать три\n",
      "тридцать\n",
      "девятьсот тридцать три\n",
      "девятьсот тридцать\n",
      "девятьсот пять\n",
      "три\n",
      "девять тысяч триста один\n",
      "девять тысяч тридцать\n",
      "три тысячи один\n"
     ]
    }
   ],
   "source": [
    "# целое число (от 0 до 9 900) # такой диапахон нужен для задачи 6.1 (99 * 99 = 9 801)\n",
    "def to_text(int_number):\n",
    "    numbers_dict = {0: '', 1: 'один', 2: 'два', 3: 'три', 4: 'четыре', 5: 'пять', 6: 'шесть', 7: 'семь', \n",
    "                    8: 'восемь', 9: 'девять', 10: 'десять', 11: 'одиннадцать', 12: 'двенадцать', \n",
    "                    13: 'тринадцать', 14: 'четырнадцать', 15: 'пятнадцать', 16: 'шестнадцать', \n",
    "                    17: 'семнадцать', 18: 'восемнадцать', 19: 'девятнадцать', \n",
    "                    20: 'двадцать', 30: 'тридцать', 40: 'сорок', 50: 'пятьдесят', 60: 'шестьдесят', 70: 'семьдесят', \n",
    "                    80: 'восемьдесят', 90: 'девяносто', 100: 'сто', 200: 'двести', 300: 'триста', 400: 'четыреста', \n",
    "                    500: 'пятьсот', 600: 'шестьсот', 700: 'семьсот', 800: 'восемьсот', 900: 'девятьсот',\n",
    "                    1000: 'одна тысяча', 2000: 'две тысячи', 3000: 'три тысячи', 4000: 'четыре тысячи', \n",
    "                    5000: 'пять тысяч', 6000: 'шесть тысяч', 7000: 'семь тысяч', \n",
    "                    8000: 'восемь тысяч', 9000: 'девять тысяч'\n",
    "                   }\n",
    "    \n",
    "    lst_number = [int(i) for i in str(int_number)[::-1]]\n",
    "    match len(lst_number):  # делаем в списке всегда 4 элемента (каждый элемент - соответствующий разряд)\n",
    "        case 1:\n",
    "            if int_number == 0:\n",
    "                return 'ноль'\n",
    "            lst_number.append(0)\n",
    "            lst_number.append(0)\n",
    "            lst_number.append(0)\n",
    "        case 2:\n",
    "            lst_number.append(0)\n",
    "            lst_number.append(0)\n",
    "        case 3:\n",
    "            lst_number.append(0)\n",
    "        case 4:\n",
    "            pass\n",
    "        case _:\n",
    "            return None\n",
    "    # кажждому разряду сопостовляем нужный текст\n",
    "    res = numbers_dict[lst_number[3]*1000] + ' ' +  numbers_dict[lst_number[2]*100] + ' ' + numbers_dict[lst_number[1]*10] + ' ' + numbers_dict[lst_number[0]] \n",
    "    return ' '.join(res.split())  #res.strip()  # удаляем лишние пробелы в начале и конце строки, лишние пробелы в строке\n",
    "\n",
    "print(to_text(33))\n",
    "print(to_text(30))\n",
    "print(to_text(933))\n",
    "print(to_text(930))\n",
    "print(to_text(905))\n",
    "print(to_text(3))\n",
    "print(to_text(9301))\n",
    "print(to_text(9030))\n",
    "print(to_text(3001))"
   ]
  },
  {
   "cell_type": "markdown",
   "id": "910a67f5",
   "metadata": {},
   "source": [
    "5.9) Написать функцию, которая преобразует целое число (от 0 до 999) из текстового представления на руссокм языке в число типа int. Пример: to_int('тридцать три') -> 33"
   ]
  },
  {
   "cell_type": "code",
   "execution_count": 27,
   "id": "1393ab04",
   "metadata": {},
   "outputs": [
    {
     "name": "stdout",
     "output_type": "stream",
     "text": [
      "33\n",
      "30\n",
      "933\n",
      "930\n",
      "3\n"
     ]
    }
   ],
   "source": [
    "# целое число (от 0 до 999)\n",
    "def to_int(text_number):\n",
    "    numbers_dict = {\n",
    "        ' ': 0, 'ноль': 0, 'один': 1, 'два': 2, 'три': 3, 'четыре': 4, \n",
    "        'пять': 5, 'шесть': 6, 'семь': 7, 'восемь': 8, 'девять': 9,\n",
    "        'десять': 10, 'одиннадцать': 11, 'двенадцать': 12, 'тринадцать': 13,\n",
    "        'четырнадцать': 14, 'пятнадцать': 15, 'шестнадцать': 16, 'семнадцать': 17,\n",
    "        'восемнадцать': 18, 'девятнадцать': 19, 'двадцать': 20, 'тридцать': 30,\n",
    "        'сорок': 40, 'пятьдесят': 50, 'шестьдесят': 60, 'семьдесят': 70,\n",
    "        'восемьдесят': 80, 'девяносто': 90, 'сто': 100, 'двести': 200,\n",
    "        'триста': 300, 'четыреста': 400, 'пятьсот': 500, 'шестьсот': 600,\n",
    "        'семьсот': 700, 'восемьсот': 800, 'девятьсот': 900\n",
    "        }\n",
    "    \n",
    "    \n",
    "    words = text_number.split()\n",
    "    match len(words):  # делаем в списке всегда 3 элемента (каждый элемент - соответствующий десяток)\n",
    "        case 1:\n",
    "            words.append(' ')\n",
    "            words.append(' ')\n",
    "        case 2:\n",
    "            words.append(' ')\n",
    "        case 3:\n",
    "            pass\n",
    "        case _:\n",
    "            return None\n",
    " \n",
    "    return numbers_dict[words[2]] + numbers_dict[words[1]] + numbers_dict[words[0]]\n",
    "\n",
    "\n",
    "print(to_int('тридцать три'))\n",
    "print(to_int('тридцать'))\n",
    "print(to_int('девятьсот тридцать три'))\n",
    "print(to_int('девятьсот тридцать'))\n",
    "print(to_int('три'))"
   ]
  },
  {
   "cell_type": "markdown",
   "id": "cd839c9a",
   "metadata": {},
   "source": [
    "6.1) Написать калькулятор для строковых выражений вида '<число> <операция> <число>', где <число> - не отрицательное целое число меньшее 100, записанное словами, например \"тридцать четыре\", <арифмитическая операция> - одна из операций \"плюс\",\"минус\",\"умножить\". Результат выполнения операции вернуть в виде текстового представления числа. Пример calc('двадцать пять плюс тринадцать') -> \"тридцать восемь\""
   ]
  },
  {
   "cell_type": "code",
   "execution_count": 31,
   "id": "196d3036",
   "metadata": {},
   "outputs": [
    {
     "name": "stdout",
     "output_type": "stream",
     "text": [
      "['тридцать четыре ', ' десять']\n",
      "34-10 = 24\n",
      "двадцать четыре\n",
      "-------------\n",
      "['два ', ' тридцать четыре']\n",
      "2+34 = 36\n",
      "тридцать шесть\n",
      "-------------\n",
      "['девяносто девять ', ' девяносто девять']\n",
      "99*99 = 9801\n",
      "девять тысяч восемьсот  один\n"
     ]
    }
   ],
   "source": [
    "def my_calc(text_exp):\n",
    "    if 'плюс' in text_exp:\n",
    "        my_sep = 'плюс'\n",
    "        operation = '+'\n",
    "    elif 'умножить' in text_exp:\n",
    "        my_sep = 'умножить'\n",
    "        operation = '*'\n",
    "    elif 'минус' in text_exp:\n",
    "        my_sep = 'минус'\n",
    "        operation = '-'\n",
    "    else:  # строка не имеет вид '<число> <операция> <число>' -> возвращаем None\n",
    "        return None\n",
    "    \n",
    "    lst_exp = text_exp.split(sep=my_sep)  # разделяем строку на два числа\n",
    "    print(lst_exp)\n",
    "    expression = str(to_int(lst_exp[0])) + operation + str(to_int(lst_exp[1]))  # строка где числа в числовой записи\n",
    "    print(expression, end=' = ')\n",
    "    int_res = eval(expression)  # получаем результат выражения\n",
    "    print(int_res)\n",
    "    return to_text(int_res)  # переводим ответ в текст\n",
    "    \n",
    "    \n",
    "print(my_calc('тридцать четыре минус десять'))\n",
    "print('-------------')\n",
    "print(my_calc('два плюс тридцать четыре'))\n",
    "print('-------------')\n",
    "print(my_calc('девяносто девять умножить девяносто девять'))"
   ]
  },
  {
   "cell_type": "code",
   "execution_count": null,
   "id": "416eb470",
   "metadata": {},
   "outputs": [],
   "source": []
  }
 ],
 "metadata": {
  "kernelspec": {
   "display_name": "Python 3 (ipykernel)",
   "language": "python",
   "name": "python3"
  },
  "language_info": {
   "codemirror_mode": {
    "name": "ipython",
    "version": 3
   },
   "file_extension": ".py",
   "mimetype": "text/x-python",
   "name": "python",
   "nbconvert_exporter": "python",
   "pygments_lexer": "ipython3",
   "version": "3.11.5"
  }
 },
 "nbformat": 4,
 "nbformat_minor": 5
}
