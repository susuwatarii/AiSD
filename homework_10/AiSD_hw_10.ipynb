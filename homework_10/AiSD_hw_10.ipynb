{
 "cells": [
  {
   "cell_type": "markdown",
   "id": "464b3854",
   "metadata": {},
   "source": [
    "вариант 2"
   ]
  },
  {
   "attachments": {},
   "cell_type": "markdown",
   "id": "8aa9cdea",
   "metadata": {},
   "source": [
    "## 38\n",
    "Необходимо отсортировать массив объектов по заданному критерию и вывести результат на экран. В зависимости от переданного параметра отсортировать массив объектов класса «Книга» по автору, названию или году издания, используя алгоритмы сортировки: пузырьковую, сортировку вставками и быструю сортировку. Сравнить время выполнения алгоритмов сортировки с помощью декоратора. Данные о книгах хранятся в файле."
   ]
  },
  {
   "cell_type": "code",
   "execution_count": 2,
   "id": "8361a143",
   "metadata": {},
   "outputs": [],
   "source": [
    "class Book(object):\n",
    "    # класс Книига: автор, название, год издания\n",
    "    def __init__(self, author, b_name, year):\n",
    "        self.author = author\n",
    "        self.name = b_name\n",
    "        self.year = year\n",
    "    \n",
    "    def __repr__(self):\n",
    "        return f\"Книга(автор={self.author}, название={self.name}, год издания={self.year})\""
   ]
  },
  {
   "cell_type": "code",
   "execution_count": 3,
   "id": "dfa5a8aa",
   "metadata": {},
   "outputs": [],
   "source": [
    "def bubble_sort(books, key):\n",
    "    # сортировка пузырьком\n",
    "    n = len(books)\n",
    "    for i in range(n):\n",
    "        for j in range(0, n - i - 1):\n",
    "            if key(books[j]) > key(books[j + 1]):\n",
    "                books[j], books[j + 1] = books[j + 1], books[j]\n",
    "\n",
    "\n",
    "def insertion_sort(books, key):\n",
    "    # сортировка вставками\n",
    "    n = len(books)\n",
    "    for i in range(1, n):\n",
    "        key_book = books[i]\n",
    "        j = i - 1\n",
    "        while j >= 0 and key(books[j]) > key(key_book):\n",
    "            books[j + 1] = books[j]\n",
    "            j -= 1\n",
    "        books[j + 1] = key_book\n",
    "\n",
    "        \n",
    "def quick_sort(books, key, low, high):\n",
    "    # быстрая сортировка \n",
    "    if low < high:\n",
    "        partition_index = partition(books, key, low, high)\n",
    "\n",
    "        quick_sort(books, key, low, partition_index - 1)\n",
    "        quick_sort(books, key, partition_index + 1, high)\n",
    "\n",
    "        \n",
    "def partition(books, key, low, high):\n",
    "    # часть быстрой сортировки\n",
    "    pivot = books[high]\n",
    "    i = low - 1\n",
    "    for j in range(low, high):\n",
    "        if key(books[j]) <= key(pivot):\n",
    "            i += 1\n",
    "            books[i], books[j] = books[j], books[i]\n",
    "    books[i + 1], books[high] = books[high], books[i + 1]\n",
    "    return i + 1\n"
   ]
  },
  {
   "cell_type": "code",
   "execution_count": 4,
   "id": "1e652a11",
   "metadata": {},
   "outputs": [],
   "source": [
    "import time\n",
    "\n",
    "\n",
    "def measure_time(func):\n",
    "    # декоратор для измерения времени\n",
    "    def wrapper(*args, **kwargs):\n",
    "        start = time.time()\n",
    "        result = func(*args, **kwargs)\n",
    "        end = time.time()\n",
    "        res = end - start\n",
    "        print(f\"выполнена за {res:.20f} секунд\")\n",
    "        return result\n",
    "    return wrapper\n"
   ]
  },
  {
   "cell_type": "code",
   "execution_count": 5,
   "id": "f6d144b5",
   "metadata": {},
   "outputs": [],
   "source": [
    "@measure_time\n",
    "def sort_books(books, key, algorithm):\n",
    "    if algorithm == \"bubble_sort\":\n",
    "        bubble_sort(books, key)\n",
    "    elif algorithm == \"insertion_sort\":\n",
    "        insertion_sort(books, key)\n",
    "    elif algorithm == \"quick_sort\":\n",
    "        quick_sort(books, key, 0, len(books) - 1)\n",
    "    else:\n",
    "        raise ValueError(\"Некорректный алгоритм сортировки\")"
   ]
  },
  {
   "cell_type": "code",
   "execution_count": 35,
   "id": "2ea288c5",
   "metadata": {},
   "outputs": [],
   "source": [
    "books = [\n",
    "    Book(\"Лев Толстой\", \"Война и мир\", 1869),\n",
    "    Book(\"Джордж Оруэлл\", \"1984\", 1949),\n",
    "    Book(\"Дж. Р. Р. Толкин\", \"Повелитель колец\", 1954),\n",
    "    Book(\"Антуан де Сент-Экзюпери\", \"Маленький принц\", 1943),\n",
    "    Book(\"Харпер Ли\", \"Убить пересмешника\", 1960),\n",
    "    Book(\"Габриэль Гарсиа Маркес\", \"Сто лет одиночества\", 1967),\n",
    "    Book(\"Джером Д. Сэлинджер\", \"Над пропастью во ржи\", 1951),\n",
    "    Book(\"Рэй Брэдбери\", \"451 градус по Фаренгейту\", 1953),\n",
    "    Book(\"Олдос Хаксли\", \"Дивный новый мир\", 1932),\n",
    "    Book(\"Джон Стейнбек\", \"О мышах и людях\", 1937),\n",
    "    Book(\"Лев Толстой\", \"Война и мир\", 1869),\n",
    "    Book(\"Джордж Оруэлл\", \"1984\", 1949),\n",
    "    Book(\"Дж. Р. Р. Толкин\", \"Повелитель колец\", 1954),\n",
    "    Book(\"Антуан де Сент-Экзюпери\", \"Маленький принц\", 1943),\n",
    "    Book(\"Харпер Ли\", \"Убить пересмешника\", 1960),\n",
    "    Book(\"Габриэль Гарсиа Маркес\", \"Сто лет одиночества\", 1967),\n",
    "    Book(\"Джером Д. Сэлинджер\", \"Над пропастью во ржи\", 1951),\n",
    "]\n",
    "\n",
    "books1 = books[:]\n",
    "books2 = books[:]\n",
    "\n",
    "books3 = books[:]\n",
    "books4 = books[:]\n",
    "books5 = books[:]\n",
    "\n",
    "books6 = books[:]\n",
    "books7 = books[:]\n",
    "books8 = books[:]"
   ]
  },
  {
   "cell_type": "code",
   "execution_count": 36,
   "id": "d4cc1b27",
   "metadata": {},
   "outputs": [
    {
     "name": "stdout",
     "output_type": "stream",
     "text": [
      "выполнена за 0.00000000000000000000 секунд\n",
      "Книга(автор=Антуан де Сент-Экзюпери, название=Маленький принц, год издания=1943)\n",
      "Книга(автор=Антуан де Сент-Экзюпери, название=Маленький принц, год издания=1943)\n",
      "Книга(автор=Габриэль Гарсиа Маркес, название=Сто лет одиночества, год издания=1967)\n",
      "Книга(автор=Габриэль Гарсиа Маркес, название=Сто лет одиночества, год издания=1967)\n",
      "Книга(автор=Дж. Р. Р. Толкин, название=Повелитель колец, год издания=1954)\n",
      "Книга(автор=Дж. Р. Р. Толкин, название=Повелитель колец, год издания=1954)\n",
      "Книга(автор=Джером Д. Сэлинджер, название=Над пропастью во ржи, год издания=1951)\n",
      "Книга(автор=Джером Д. Сэлинджер, название=Над пропастью во ржи, год издания=1951)\n",
      "Книга(автор=Джон Стейнбек, название=О мышах и людях, год издания=1937)\n",
      "Книга(автор=Джордж Оруэлл, название=1984, год издания=1949)\n",
      "Книга(автор=Джордж Оруэлл, название=1984, год издания=1949)\n",
      "Книга(автор=Лев Толстой, название=Война и мир, год издания=1869)\n",
      "Книга(автор=Лев Толстой, название=Война и мир, год издания=1869)\n",
      "Книга(автор=Олдос Хаксли, название=Дивный новый мир, год издания=1932)\n",
      "Книга(автор=Рэй Брэдбери, название=451 градус по Фаренгейту, год издания=1953)\n",
      "Книга(автор=Харпер Ли, название=Убить пересмешника, год издания=1960)\n",
      "Книга(автор=Харпер Ли, название=Убить пересмешника, год издания=1960)\n"
     ]
    }
   ],
   "source": [
    "sort_books(books, lambda book: book.author, \"bubble_sort\")\n",
    "print(*books, sep='\\n')"
   ]
  },
  {
   "cell_type": "code",
   "execution_count": 37,
   "id": "775414ba",
   "metadata": {},
   "outputs": [
    {
     "name": "stdout",
     "output_type": "stream",
     "text": [
      "выполнена за 0.00000000000000000000 секунд\n"
     ]
    }
   ],
   "source": [
    "sort_books(books1, lambda book: book.author, \"insertion_sort\")"
   ]
  },
  {
   "cell_type": "code",
   "execution_count": 38,
   "id": "1fb004e8",
   "metadata": {},
   "outputs": [
    {
     "name": "stdout",
     "output_type": "stream",
     "text": [
      "выполнена за 0.00000000000000000000 секунд\n"
     ]
    }
   ],
   "source": [
    "sort_books(books2, lambda book: book.author, \"quick_sort\")"
   ]
  },
  {
   "cell_type": "code",
   "execution_count": 39,
   "id": "5cb46fb2",
   "metadata": {},
   "outputs": [
    {
     "name": "stdout",
     "output_type": "stream",
     "text": [
      "выполнена за 0.00000000000000000000 секунд\n"
     ]
    }
   ],
   "source": [
    "sort_books(books3, lambda book: book.name, \"bubble_sort\")"
   ]
  },
  {
   "cell_type": "code",
   "execution_count": 40,
   "id": "d2d1cd49",
   "metadata": {},
   "outputs": [
    {
     "name": "stdout",
     "output_type": "stream",
     "text": [
      "выполнена за 0.00000000000000000000 секунд\n",
      "Книга(автор=Антуан де Сент-Экзюпери, название=Маленький принц, год издания=1943)\n",
      "Книга(автор=Антуан де Сент-Экзюпери, название=Маленький принц, год издания=1943)\n",
      "Книга(автор=Габриэль Гарсиа Маркес, название=Сто лет одиночества, год издания=1967)\n",
      "Книга(автор=Габриэль Гарсиа Маркес, название=Сто лет одиночества, год издания=1967)\n",
      "Книга(автор=Дж. Р. Р. Толкин, название=Повелитель колец, год издания=1954)\n",
      "Книга(автор=Дж. Р. Р. Толкин, название=Повелитель колец, год издания=1954)\n",
      "Книга(автор=Джером Д. Сэлинджер, название=Над пропастью во ржи, год издания=1951)\n",
      "Книга(автор=Джером Д. Сэлинджер, название=Над пропастью во ржи, год издания=1951)\n",
      "Книга(автор=Джон Стейнбек, название=О мышах и людях, год издания=1937)\n",
      "Книга(автор=Джордж Оруэлл, название=1984, год издания=1949)\n",
      "Книга(автор=Джордж Оруэлл, название=1984, год издания=1949)\n",
      "Книга(автор=Лев Толстой, название=Война и мир, год издания=1869)\n",
      "Книга(автор=Лев Толстой, название=Война и мир, год издания=1869)\n",
      "Книга(автор=Олдос Хаксли, название=Дивный новый мир, год издания=1932)\n",
      "Книга(автор=Рэй Брэдбери, название=451 градус по Фаренгейту, год издания=1953)\n",
      "Книга(автор=Харпер Ли, название=Убить пересмешника, год издания=1960)\n",
      "Книга(автор=Харпер Ли, название=Убить пересмешника, год издания=1960)\n"
     ]
    }
   ],
   "source": [
    "sort_books(books4, lambda book: book.name, \"insertion_sort\")\n",
    "print(*books, sep='\\n')"
   ]
  },
  {
   "cell_type": "code",
   "execution_count": 41,
   "id": "06b78289",
   "metadata": {},
   "outputs": [
    {
     "name": "stdout",
     "output_type": "stream",
     "text": [
      "выполнена за 0.00000000000000000000 секунд\n"
     ]
    }
   ],
   "source": [
    "sort_books(books5, lambda book: book.name, \"quick_sort\")"
   ]
  },
  {
   "cell_type": "code",
   "execution_count": 42,
   "id": "a708e945",
   "metadata": {},
   "outputs": [
    {
     "name": "stdout",
     "output_type": "stream",
     "text": [
      "выполнена за 0.00000000000000000000 секунд\n"
     ]
    }
   ],
   "source": [
    "sort_books(books6, lambda book: book.year, \"bubble_sort\")"
   ]
  },
  {
   "cell_type": "code",
   "execution_count": 43,
   "id": "44f4ae70",
   "metadata": {},
   "outputs": [
    {
     "name": "stdout",
     "output_type": "stream",
     "text": [
      "выполнена за 0.00000000000000000000 секунд\n"
     ]
    }
   ],
   "source": [
    "sort_books(books7, lambda book: book.year, \"insertion_sort\")"
   ]
  },
  {
   "cell_type": "code",
   "execution_count": 44,
   "id": "786ac48c",
   "metadata": {},
   "outputs": [
    {
     "name": "stdout",
     "output_type": "stream",
     "text": [
      "выполнена за 0.00000000000000000000 секунд\n",
      "Книга(автор=Антуан де Сент-Экзюпери, название=Маленький принц, год издания=1943)\n",
      "Книга(автор=Антуан де Сент-Экзюпери, название=Маленький принц, год издания=1943)\n",
      "Книга(автор=Габриэль Гарсиа Маркес, название=Сто лет одиночества, год издания=1967)\n",
      "Книга(автор=Габриэль Гарсиа Маркес, название=Сто лет одиночества, год издания=1967)\n",
      "Книга(автор=Дж. Р. Р. Толкин, название=Повелитель колец, год издания=1954)\n",
      "Книга(автор=Дж. Р. Р. Толкин, название=Повелитель колец, год издания=1954)\n",
      "Книга(автор=Джером Д. Сэлинджер, название=Над пропастью во ржи, год издания=1951)\n",
      "Книга(автор=Джером Д. Сэлинджер, название=Над пропастью во ржи, год издания=1951)\n",
      "Книга(автор=Джон Стейнбек, название=О мышах и людях, год издания=1937)\n",
      "Книга(автор=Джордж Оруэлл, название=1984, год издания=1949)\n",
      "Книга(автор=Джордж Оруэлл, название=1984, год издания=1949)\n",
      "Книга(автор=Лев Толстой, название=Война и мир, год издания=1869)\n",
      "Книга(автор=Лев Толстой, название=Война и мир, год издания=1869)\n",
      "Книга(автор=Олдос Хаксли, название=Дивный новый мир, год издания=1932)\n",
      "Книга(автор=Рэй Брэдбери, название=451 градус по Фаренгейту, год издания=1953)\n",
      "Книга(автор=Харпер Ли, название=Убить пересмешника, год издания=1960)\n",
      "Книга(автор=Харпер Ли, название=Убить пересмешника, год издания=1960)\n"
     ]
    }
   ],
   "source": [
    "sort_books(books8, lambda book: book.year, \"quick_sort\")\n",
    "print(*books, sep='\\n')"
   ]
  },
  {
   "attachments": {
    "image-5.png": {
     "image/png": "[encoded data removed]"
    }
   },
   "cell_type": "markdown",
   "id": "bbc52121",
   "metadata": {},
   "source": [
    "## 39\n",
    "Реализовать класс бинарного дерева. Написать функцию для проверки, является ли бинарное дерево сбалансированным.\n",
    "\n",
    "\n",
    "Бинарное дерево называется сбалансированным, если для любой его вершины v высоты левого и правого поддерева, выходящих из v (т.е. поддеревьев с корнями v->left и v->right), отличаются не более чем на 1.\n",
    "\n",
    "![image-5.png](attachment:image-5.png)"
   ]
  },
  {
   "cell_type": "code",
   "execution_count": 25,
   "id": "e5dc3918",
   "metadata": {},
   "outputs": [],
   "source": [
    "class Node(object):\n",
    "    # узел в бинарном дереве\n",
    "    def __init__(self, data):\n",
    "        self.data = data\n",
    "        self.left = None\n",
    "        self.right = None\n",
    "\n",
    "class BinaryTree(object):\n",
    "    # бинарное дерево\n",
    "    def __init__(self):\n",
    "        self.root = None\n",
    "    \n",
    "    def is_balanced(root):\n",
    "        # проверка, является ли сбалансированным\n",
    "        if not root:\n",
    "            return True\n",
    "\n",
    "        left_height = get_height(root.left)\n",
    "        right_height = get_height(root.right)\n",
    "\n",
    "        return abs(left_height - right_height) <= 1 and \\\n",
    "               is_balanced(root.left) and is_balanced(root.right)\n",
    "\n",
    "    def get_height(root): \n",
    "        if not root:\n",
    "            return 0\n",
    "        return max(get_height(root.left), get_height(root.right)) + 1\n"
   ]
  },
  {
   "cell_type": "code",
   "execution_count": 26,
   "id": "22f6287a",
   "metadata": {},
   "outputs": [],
   "source": [
    "def is_balanced(root):\n",
    "    # проверка на сбалансированность\n",
    "    if not root:\n",
    "        return True\n",
    "\n",
    "    left_height = get_height(root.left)\n",
    "    right_height = get_height(root.right)\n",
    "\n",
    "    return abs(left_height - right_height) <= 1 and \\\n",
    "           is_balanced(root.left) and is_balanced(root.right)\n",
    "\n",
    "def get_height(root):\n",
    "    # часть проверки на сбалансированность, возвращает \"высоту\" дерева для данного корня\n",
    "    if not root:\n",
    "        return 0\n",
    "    return max(get_height(root.left), get_height(root.right)) + 1\n"
   ]
  },
  {
   "attachments": {
    "image.png": {
     "image/png": "[encoded data removed]"
    }
   },
   "cell_type": "markdown",
   "id": "2bcb67d8",
   "metadata": {},
   "source": [
    "![image.png](attachment:image.png)"
   ]
  },
  {
   "cell_type": "code",
   "execution_count": 27,
   "id": "69900478",
   "metadata": {},
   "outputs": [
    {
     "name": "stdout",
     "output_type": "stream",
     "text": [
      "True\n"
     ]
    }
   ],
   "source": [
    "# Создадим сбалансированное бинарное дерево\n",
    "tree = BinaryTree()\n",
    "tree.root = Node(1)\n",
    "tree.root.left = Node(2)\n",
    "tree.root.right = Node(3)\n",
    "tree.root.left.left = Node(4)\n",
    "tree.root.left.right = Node(5)\n",
    "tree.root.right.left = Node(6)\n",
    "tree.root.right.right = Node(7)\n",
    "tree.root.left.left.left = Node(8)\n",
    "tree.root.left.left.right = Node(9)\n",
    "tree.root.left.right.left = Node(10)\n",
    "tree.root.left.right.right = Node(11)\n",
    "tree.root.right.left.left = Node(12)\n",
    "tree.root.left.left.left.left = Node(13)\n",
    "tree.root.left.left.left.right = Node(14)\n",
    "\n",
    "\n",
    "# Проверим сбалансированность дерева\n",
    "print(is_balanced(tree.root))  # Выведет True\n"
   ]
  },
  {
   "attachments": {
    "image-2.png": {
     "image/png": "[encoded data removed]"
    }
   },
   "cell_type": "markdown",
   "id": "934d03d3",
   "metadata": {},
   "source": [
    "![image-2.png](attachment:image-2.png)"
   ]
  },
  {
   "cell_type": "code",
   "execution_count": 28,
   "id": "5b3710e0",
   "metadata": {},
   "outputs": [
    {
     "name": "stdout",
     "output_type": "stream",
     "text": [
      "False\n"
     ]
    }
   ],
   "source": [
    "# Создадим несбалансированное бинарное дерево\n",
    "tree2 = BinaryTree()\n",
    "tree2.root = Node(1)\n",
    "tree2.root.left = Node(2)\n",
    "tree2.root.right = Node(3)\n",
    "tree2.root.left.left = Node(4)\n",
    "tree2.root.left.right = Node(5)\n",
    "tree2.root.right.left = Node(6)\n",
    "\n",
    "tree2.root.left.left.left = Node(8)\n",
    "\n",
    "tree2.root.left.right.left = Node(10)\n",
    "tree2.root.left.right.right = Node(11)\n",
    "tree2.root.right.left.left = Node(12)\n",
    "tree2.root.left.left.left.left = Node(13)\n",
    "\n",
    "\n",
    "# Проверим сбалансированность дерева\n",
    "print(is_balanced(tree2.root))  # Выведет False\n"
   ]
  },
  {
   "attachments": {},
   "cell_type": "markdown",
   "id": "0f3305fa",
   "metadata": {},
   "source": [
    "## 40\n",
    "Работает система, которая отслеживает активность пользователей на веб-сайте. Каждый раз, когда пользователь посещает страницу, система создает запись с временной меткой. Реализовать структуру данных на основе двоичной кучи, которая будет поддерживать операции добавления записи и извлечения записей за определенный период времени.\n",
    "\n",
    "\n",
    "Решение:\n",
    "\n",
    "разобрать как работает\n",
    "\n",
    "I\n",
    "\n",
    "I\n",
    "\n",
    "- Кучи - это двоичные деревья, для которых каждый родительский узел имеет значение, меньшее или равное любому из его дочерних элементов. В этой реализации используются массивы, для которых heap[k] <= heap[2*k+1] и heap[k] <= heap[2*k+2] для всех k, считая элементы с нуля. Для сравнения, несуществующие элементы считаются бесконечными. Интересным свойством кучи является то, что ее наименьшим элементом всегда является корень heap[0].\n",
    "\n",
    "\n",
    "\n",
    "- Двоичная куча – бинарное дерево, где значение в любой вершине ``не меньше`` (больше), чем значения её потомков, при этом ``заполнение уровней должно быть последовательным`` (без дырок и перескоков на следующий уровень, если текущий уровень не закончен). Работа с кучей осуществляется за время порядка O(log n)."
   ]
  },
  {
   "cell_type": "code",
   "execution_count": 33,
   "id": "43c39853",
   "metadata": {},
   "outputs": [],
   "source": [
    "from heapq import heappush, heappop  # heapq = heap queue algorithm\n",
    "\n",
    "\n",
    "class TimedRecord(object):\n",
    "    # класс Запись: время посещения, данные о посетителе\n",
    "    def __init__(self, timestamp, data):\n",
    "        self.timestamp = timestamp\n",
    "        self.data = data\n",
    "\n",
    "        \n",
    "class TimedRecordHeap(object):\n",
    "    def __init__(self):\n",
    "        self.heap = []\n",
    "\n",
    "    def add(self, record):\n",
    "        heappush(self.heap, (record.timestamp, record))\n",
    "              \n",
    "    def get_records_in_period(self, start_time, end_time):\n",
    "        result = []\n",
    "        while self.heap and self.heap[0][0] < start_time:\n",
    "            # до тех пор пока не дощли до start_time идем по куче\n",
    "            heappop(self.heap)\n",
    "\n",
    "        while self.heap and self.heap[0][0] <= end_time:\n",
    "            # в заданном промежутке времени добавляем в результат данные \n",
    "            _, record = heappop(self.heap)\n",
    "            result.append(record)\n",
    "\n",
    "        return result\n"
   ]
  },
  {
   "cell_type": "code",
   "execution_count": 34,
   "id": "ad15a4eb",
   "metadata": {},
   "outputs": [
    {
     "name": "stdout",
     "output_type": "stream",
     "text": [
      "Пользователь 2 посетил страницу B\n",
      "Пользователь 3 посетил страницу C\n"
     ]
    }
   ],
   "source": [
    "# Создадим кучу записей о времени\n",
    "heap = TimedRecordHeap()\n",
    "\n",
    "# Добавим несколько записей\n",
    "heap.add(TimedRecord(1651843200, \"Пользователь 1 посетил страницу A\"))\n",
    "heap.add(TimedRecord(1651843300, \"Пользователь 2 посетил страницу B\"))\n",
    "heap.add(TimedRecord(1651843400, \"Пользователь 3 посетил страницу C\"))\n",
    "heap.add(TimedRecord(1651843500, \"Пользователь 1 снова посетил страницу A\"))\n",
    "\n",
    "# Получим записи за определенный период времени\n",
    "records = heap.get_records_in_period(1651843250, 1651843450)\n",
    "\n",
    "# Выведем полученные записи\n",
    "for record in records:\n",
    "    print(record.data)\n"
   ]
  }
 ],
 "metadata": {
  "kernelspec": {
   "display_name": "Python 3 (ipykernel)",
   "language": "python",
   "name": "python3"
  },
  "language_info": {
   "codemirror_mode": {
    "name": "ipython",
    "version": 3
   },
   "file_extension": ".py",
   "mimetype": "text/x-python",
   "name": "python",
   "nbconvert_exporter": "python",
   "pygments_lexer": "ipython3",
   "version": "3.11.5"
  }
 },
 "nbformat": 4,
 "nbformat_minor": 5
}
