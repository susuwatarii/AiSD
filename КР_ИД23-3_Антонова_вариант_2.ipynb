{
 "cells": [
  {
   "cell_type": "markdown",
   "metadata": {},
   "source": [
    "### Контрольная работа № 1.\n",
    "### Вариант 2.\n",
    "#### Студент _____Антонова Алена____ группа _____ИД23-3_______"
   ]
  },
  {
   "cell_type": "markdown",
   "metadata": {},
   "source": [
    "# 1. \n",
    "Напишите программу, которая выполняет добавление, удаление и вывод на экран элементов списка при помощи классов. \n",
    "\n",
    "Решение задачи\n",
    "\n",
    "1.\tСоздаем класс и с помощью конструктора инициализируем значения этого класса.\n",
    "2.\tСоздаем в данном классе методы для добавления, удаления и вывода на экран соответствующих значений.\n",
    "3.\tСоздаем объект данного класса.\n",
    "4.\tИспользуя созданный объект, вызываем соответствующий метод (в зависимости от выбора пользователя).\n",
    "5.\tВыводим результат на экран.\n",
    "6.\tКонец.\n",
    "\n",
    "В программе реализовать выбор с помощью меню:\n",
    "\n",
    "print(\"0. Выход\")\n",
    "\n",
    "print(\"1. Добавить\")\n",
    "\n",
    "print(\"2. Удалить\")\n",
    "\n",
    "print(\"3. Вывести на экран\")\n",
    "\n",
    "choice = int(input(\"Выберите одно из этих значений: \"))\n",
    "\n"
   ]
  },
  {
   "cell_type": "code",
   "execution_count": 15,
   "metadata": {},
   "outputs": [],
   "source": [
    "# Решение 1.\n",
    "class MyList(object):\n",
    "    def __init__(self, seq=''):\n",
    "        self.lst = list(seq)\n",
    "        \n",
    "    def push(self, value):\n",
    "        self.lst.append(value)\n",
    "        \n",
    "    def pop(self, value):\n",
    "        if value in self.lst:\n",
    "            self.lst.remove(value)\n",
    "            \n",
    "    def print_lst(self):\n",
    "        print(*self.lst, sep=';')\n",
    "        "
   ]
  },
  {
   "cell_type": "code",
   "execution_count": 16,
   "metadata": {},
   "outputs": [
    {
     "name": "stdout",
     "output_type": "stream",
     "text": [
      "1;1;2;4\n",
      "1;1;2;4;100\n",
      "1;2;4;100\n"
     ]
    }
   ],
   "source": [
    "my_lst = MyList('1124')\n",
    "my_lst.print_lst()\n",
    "\n",
    "my_lst.push(100)\n",
    "my_lst.print_lst()\n",
    "\n",
    "my_lst.pop('1')\n",
    "my_lst.print_lst()\n"
   ]
  },
  {
   "cell_type": "code",
   "execution_count": 17,
   "metadata": {},
   "outputs": [
    {
     "name": "stdout",
     "output_type": "stream",
     "text": [
      "0. Выход\n",
      "1. Добавить\n",
      "2. Удалить\n",
      "3. Вывести на экран\n",
      "Выберите одно из этих значений: 3\n",
      "1;1;2;4\n",
      "0. Выход\n",
      "1. Добавить\n",
      "2. Удалить\n",
      "3. Вывести на экран\n",
      "Выберите одно из этих значений: 1\n",
      "элемент: 100\n",
      "0. Выход\n",
      "1. Добавить\n",
      "2. Удалить\n",
      "3. Вывести на экран\n",
      "Выберите одно из этих значений: 3\n",
      "1;1;2;4;100\n",
      "0. Выход\n",
      "1. Добавить\n",
      "2. Удалить\n",
      "3. Вывести на экран\n",
      "Выберите одно из этих значений: 2\n",
      "элемент: 100\n",
      "0. Выход\n",
      "1. Добавить\n",
      "2. Удалить\n",
      "3. Вывести на экран\n",
      "Выберите одно из этих значений: 3\n",
      "1;1;2;4\n",
      "0. Выход\n",
      "1. Добавить\n",
      "2. Удалить\n",
      "3. Вывести на экран\n",
      "Выберите одно из этих значений: 2\n",
      "элемент: 1\n",
      "0. Выход\n",
      "1. Добавить\n",
      "2. Удалить\n",
      "3. Вывести на экран\n",
      "Выберите одно из этих значений: 3\n",
      "1;2;4\n",
      "0. Выход\n",
      "1. Добавить\n",
      "2. Удалить\n",
      "3. Вывести на экран\n",
      "Выберите одно из этих значений: 0\n"
     ]
    }
   ],
   "source": [
    "print(\"0. Выход\")\n",
    "print(\"1. Добавить\")\n",
    "print(\"2. Удалить\")\n",
    "print(\"3. Вывести на экран\")\n",
    "choice = int(input(\"Выберите одно из этих значений: \"))\n",
    "\n",
    "my_lst = MyList('1124')\n",
    "\n",
    "while choice!=0:\n",
    "    match choice:\n",
    "        case 1:\n",
    "            my_lst.push(input('элемент: '))\n",
    "        case 2:\n",
    "            my_lst.pop(input('элемент: '))\n",
    "        case 3:\n",
    "            my_lst.print_lst()\n",
    "            \n",
    "    print(\"0. Выход\")\n",
    "    print(\"1. Добавить\")\n",
    "    print(\"2. Удалить\")\n",
    "    print(\"3. Вывести на экран\")\n",
    "    choice = int(input(\"Выберите одно из этих значений: \"))  \n",
    "            "
   ]
  },
  {
   "cell_type": "markdown",
   "metadata": {},
   "source": [
    "# 2. \n",
    "Используя класс People в качестве базового, создайте класс Сотрудник (Worker), имеющий свойства:\n",
    "\n",
    "• должность (post)\n",
    "\n",
    "• зарплата (salary)\n",
    "\n",
    "методы:\n",
    "\n",
    "• __init__ – конструктор;\n",
    "\n",
    "• __str__ – аналогично методу класса Teacher из примера.\n",
    "\n",
    "Используя класс Сотрудник в качестве базового создайте класс Преподаватель (Teacher), имеющий:\n",
    "\n",
    "• закрытый атрибут дисциплины (disciplines), в котором хранятся названия дисциплин, которые ведет преподаватель;\n",
    "\n",
    "• методы __init__ и __str__;\n",
    "\n",
    "• методы добавить_дисциплину (add_dis) и удалить_дисциплину (delete_dis), которые позволяют изменять список дисциплин.\n",
    "\n",
    "Создайте список, содержащий по 2 объекта каждого класса (People, Worker, Teacher). Для этого списка:\n",
    "\n",
    "• выведите информацию о каждом человеке с помощью метода info;\n",
    "\n",
    "• выведите фамилии тех, кто моложе 30 лет;\n",
    "\n",
    "• продемонстрируйте работу со свойствами должность и зарплата и методами добавить_дисциплину и удалить_дисциплину.\n"
   ]
  },
  {
   "cell_type": "code",
   "execution_count": 28,
   "metadata": {},
   "outputs": [],
   "source": [
    "# Решение 2.\n",
    "class People(object):\n",
    "    def __init__(self, name, age):\n",
    "        self.name = name\n",
    "        self.age = age\n",
    "        \n",
    "    def younger_30(self):\n",
    "        return self.age < 30\n",
    "    \n",
    "    def info(self):\n",
    "        return f\"{self.name}, {self.age}\"\n",
    "\n",
    "    \n",
    "class Worker(People):\n",
    "    def __init__(self, name, age, post, salary):\n",
    "        super().__init__(name, age)\n",
    "        self.post = post\n",
    "        self.salary = salary\n",
    "    \n",
    "    def __str__(self):\n",
    "        return f\"Имя: {self.name}, Возраст: {self.age}, Должность: {self.post}, Зарплата: {self.salary}\"\n",
    "\n",
    "    \n",
    "class Teacher(Worker):\n",
    "    def __init__(self, name, age, post, salary):\n",
    "        super().__init__(name, age, post, salary)\n",
    "        self.disciplines = []\n",
    "        \n",
    "    def __str__(self):\n",
    "        return f\"Имя: {self.name}, Возраст: {self.age}, Должность: {self.post}, Зарплата: {self.salary}, Дисциплины: {', '.join(self.disciplines)}\"\n",
    "    \n",
    "    def add_dis(self, discipline):\n",
    "        self.disciplines.append(discipline)\n",
    "    \n",
    "    def delete_dis(self, discipline):\n",
    "        if discipline in self.disciplines:\n",
    "            self.disciplines.remove(discipline)\n",
    "\n",
    "    \n",
    "people_lst = [\n",
    "                People('Антонова', 20),\n",
    "                People('Политова', 19),\n",
    "                Worker('Работник_1', 28, 'Менеджер', 3000),\n",
    "                Worker('Работник_2', 35, 'Бухгалтер', 3500),\n",
    "                Teacher('Учитель_1', 40, 'Преподаватель', 4000),\n",
    "                Teacher('Учитель_2', 29, 'Учитель', 3200)\n",
    "            ]\n"
   ]
  },
  {
   "cell_type": "code",
   "execution_count": 29,
   "metadata": {},
   "outputs": [
    {
     "name": "stdout",
     "output_type": "stream",
     "text": [
      "Антонова, 20\n",
      "Антонова моложе 30 лет.\n",
      "Политова, 19\n",
      "Политова моложе 30 лет.\n",
      "Работник_1, 28\n",
      "Работник_1 моложе 30 лет.\n",
      "Работник_2, 35\n",
      "Учитель_1, 40\n",
      "Учитель_2, 29\n",
      "Учитель_2 моложе 30 лет.\n"
     ]
    }
   ],
   "source": [
    "for person in people_lst:\n",
    "    print(person.info())\n",
    "    if person.younger_30():\n",
    "        print(f\"{person.name} моложе 30 лет.\")\n"
   ]
  },
  {
   "cell_type": "code",
   "execution_count": 30,
   "metadata": {},
   "outputs": [
    {
     "name": "stdout",
     "output_type": "stream",
     "text": [
      "Имя: Учитель_2, Возраст: 29, Должность: Учитель, Зарплата: 3200, Дисциплины: \n",
      "Имя: Учитель_2, Возраст: 29, Должность: Учитель, Зарплата: 3200, Дисциплины: Мат Анализ, АиСД\n",
      "Имя: Учитель_2, Возраст: 29, Должность: Учитель, Зарплата: 3200, Дисциплины: Мат Анализ\n"
     ]
    }
   ],
   "source": [
    "print(people_lst[-1])\n",
    "people_lst[-1].add_dis('Мат Анализ')\n",
    "people_lst[-1].add_dis('АиСД')\n",
    "print(people_lst[-1])\n",
    "\n",
    "people_lst[-1].delete_dis('АиСД')\n",
    "print(people_lst[-1])\n"
   ]
  },
  {
   "cell_type": "markdown",
   "metadata": {},
   "source": [
    "# 3.\n",
    "Создайте класс Заказ(Order), у которого есть свойства кодтовара(code), цена(price), количество(count) и методы _init и str.\n",
    "\n",
    "Создайте 2 класса-потомка: Опт(Opt) и Розница(Retail). В этих классах создайте методы init, str.и сумма_заказа(summa), позволяющий узнать стоимость заказа. Для опта стоимость единицы товара составляет 95% от цены, а при покупке более 500 штук – 90% цены. В розницу стоимость единицы товара составляет 100% цены. Стоимость заказа равна произведению цены на количество.\n",
    "\n",
    "Продемонстрируйте работу с классами, создав необходимые объекты и обратившись к их свойствам и методам"
   ]
  },
  {
   "cell_type": "code",
   "execution_count": 38,
   "metadata": {},
   "outputs": [],
   "source": [
    "# Решение 3.\n",
    "class Order(object):\n",
    "    def __init__(self, code, price, count):\n",
    "        self.code = code\n",
    "        self.price = price\n",
    "        self.count = count\n",
    "        \n",
    "    def __str__(self):\n",
    "        return f\"Код: '{self.code}', Цена: {self.price}, Кол-во: {self.count}\"\n",
    "\n",
    "    \n",
    "class Opt(Order):\n",
    "    def __init__(self, code, price, count):\n",
    "        super().__init__(code, price, count)\n",
    "    \n",
    "    def __str__(self):\n",
    "        return super().__str__()\n",
    "\n",
    "    def summa(self):\n",
    "        if self.count > 500:\n",
    "            total = self.price * self.count * 0.9\n",
    "            return total\n",
    "        total = self.price * self.count * 0.95\n",
    "        return total\n",
    "\n",
    "    \n",
    "class Retail(Order):\n",
    "    def __init__(self, code, price, count):\n",
    "        super().__init__(code, price, count)\n",
    "    \n",
    "    def __str__(self):\n",
    "        return super().__str__()\n",
    "\n",
    "    def summa(self):\n",
    "        return self.price * self.count\n",
    "    "
   ]
  },
  {
   "cell_type": "code",
   "execution_count": 50,
   "metadata": {},
   "outputs": [
    {
     "name": "stdout",
     "output_type": "stream",
     "text": [
      "Код: '1236156351', Цена: 1000, Кол-во: 100\n",
      "Стоимость опта: 95000.0\n",
      "\n",
      "Код: '87690', Цена: 50, Кол-во: 500\n",
      "Стоимость розницы: 25000\n"
     ]
    }
   ],
   "source": [
    "order_opt = Opt('1236156351', 1000, 100)\n",
    "order_ret = Retail('87690', 50, 500)\n",
    "\n",
    "print(order_opt)\n",
    "print(f\"Стоимость опта: {order_opt.summa()}\", end='\\n\\n')\n",
    "\n",
    "print(order_ret)\n",
    "print(f\"Стоимость розницы: {order_ret.summa()}\")\n"
   ]
  },
  {
   "cell_type": "markdown",
   "metadata": {},
   "source": [
    "# 4.\n",
    "Написать функцию-генератор my_func_2(lst), которая принимает объект, поддерживающий итерации с произвольным уровнем вложенности, и возвращает все элементы по одному."
   ]
  },
  {
   "cell_type": "code",
   "execution_count": 53,
   "metadata": {},
   "outputs": [],
   "source": [
    "# Решение 4.\n",
    "def my_func_2(lst):\n",
    "    if hasattr(lst, '__iter__'):\n",
    "        for el in lst:\n",
    "            if hasattr(el, '__iter__'):\n",
    "                yield from my_func_2(el)\n",
    "            else:\n",
    "                yield el\n"
   ]
  },
  {
   "cell_type": "code",
   "execution_count": 54,
   "metadata": {},
   "outputs": [
    {
     "name": "stdout",
     "output_type": "stream",
     "text": [
      "[10, 20, 300, 400, 5, 60, 70, 80, 900]\n"
     ]
    }
   ],
   "source": [
    "lst = [[10, 20, [300, 400]], 5, [60, 70], [80, [900]]]\n",
    "res = list(my_func_2(lst))\n",
    "print(res)\n"
   ]
  },
  {
   "cell_type": "markdown",
   "metadata": {},
   "source": [
    "# 5.\n",
    "С помощью механизма map/filter/reduce (хотя бы одна из этих функций должна быть использована в решении) посчитать в тексте количество слов, состоящих не менее, чем из 3-х букв. Слова в тексте разделены пробелами. Написать реализацию в одну строку. Оформить решение в виде функции my_func_3(text), т.е. шаблон таков:\n",
    "\n",
    "строка с import, если необходимо def my_func_3(text): return # однострочная реализация задания"
   ]
  },
  {
   "cell_type": "code",
   "execution_count": 58,
   "metadata": {},
   "outputs": [],
   "source": [
    "# Решение 5.\n",
    "def my_func_3(text): return len(list(filter(lambda word: len(word) >= 3, text.split())))\n"
   ]
  },
  {
   "cell_type": "code",
   "execution_count": 59,
   "metadata": {},
   "outputs": [
    {
     "name": "stdout",
     "output_type": "stream",
     "text": [
      "16\n"
     ]
    }
   ],
   "source": [
    "text = ' Слова в тексте разделены пробелами. Написать реализацию в одну строку. Оформить решение в виде функции my_func_3(text), т.е. шаблон таков:'\n",
    "print(my_func_3(text))\n"
   ]
  },
  {
   "cell_type": "markdown",
   "metadata": {},
   "source": [
    "# 6.  не нужно делать\n",
    "Написать декоратор с параметром my_decorator(n). Декоратор превращает функцию, возвращающую поддерживающий итерации объект (далее \"последовательность\"), в функцию-генератор. Если декорируемая функция возвращает что-то другое, а не последовательность, то декоратор должен вернуть этот результат вызова функции без изменений.\n",
    "\n",
    "Проверку объекта можно организовать при помощи условия import collections if isinstance(item, collections.Iterable)\n",
    "\n",
    "Параметром декоратора может быть целое положительное число n, тогда получившаяся функция-декоратор должна генерировать по одному значению из последовательности, повторенной n раз. Также параметр может принимать строковое значение 'inf', тогда функция-декоратор генерирует по одному значению из последовательности, повторенной бесконечное число раз (зацикливает генерирование результата).\n",
    "\n",
    "Подсказка: сначала реализовать случай со значением аргумента 'inf', а затем модифицировать для целочисленного значения аргумента."
   ]
  },
  {
   "cell_type": "code",
   "execution_count": null,
   "metadata": {},
   "outputs": [],
   "source": [
    "# Решение 6.\n",
    "\n",
    "# сказали не делать"
   ]
  }
 ],
 "metadata": {
  "kernelspec": {
   "display_name": "Python 3 (ipykernel)",
   "language": "python",
   "name": "python3"
  },
  "language_info": {
   "codemirror_mode": {
    "name": "ipython",
    "version": 3
   },
   "file_extension": ".py",
   "mimetype": "text/x-python",
   "name": "python",
   "nbconvert_exporter": "python",
   "pygments_lexer": "ipython3",
   "version": "3.10.9"
  }
 },
 "nbformat": 4,
 "nbformat_minor": 4
}
