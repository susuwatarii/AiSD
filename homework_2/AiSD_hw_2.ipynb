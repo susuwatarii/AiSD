{
 "cells": [
  {
   "cell_type": "markdown",
   "id": "286ea017",
   "metadata": {},
   "source": [
    "Когда Python запускает \"исходный файл\" в качестве основной программы, \n",
    "\n",
    "он присваивает переменной \\__name__ значение \\__main__"
   ]
  },
  {
   "cell_type": "markdown",
   "id": "45dc4813",
   "metadata": {},
   "source": [
    "# 1)\n",
    "Создать скрипт для анализа тестовых файлов - сбора статистики упоминания слов. \n",
    "\n",
    "Аргументом командной строки является имя файла, который нужно проанализировать. \n",
    "\n",
    "Второй аргумент - количество слов, которые нужно выводить на экран (если аргумент не указан, то выводим статистику по 100 словам, статистика выводится в порядке убывания частоты слов, по каждому слову на экран выводится строка в формате \"<слово> <частота>\"). \n",
    "\n",
    "Если второй аргумент не целое число, то его рассматриваем как имя файла, в который в формате CSV с заголовком сохраняем статистику слов (Первый столбец - слово, второй столбце - частота)."
   ]
  },
  {
   "attachments": {
    "image-2.png": {
     "image/png": "[encoded data removed]"
    },
    "image.png": {
     "image/png": "[encoded data removed]"
    }
   },
   "cell_type": "markdown",
   "id": "c4ec1be3",
   "metadata": {},
   "source": [
    "  открываем командную строку - cmd \n",
    "  переодим в директорию файла .py (и .txt)\n",
    "  запускаем питоновский файл \n",
    "  \n",
    "  python hw_2.py hw_2_text.txt 5\n",
    "  ![image.png](attachment:image.png)\n",
    "  \n",
    "  или python hw_2.py hw_2_text.txt \n",
    "  \n",
    "  или python hw_2.py hw_2_text.txt f_saved\n",
    "  \n",
    "  если открыть сохраненный файл, будет такое сообщение:\n",
    "  \n",
    "  ![image-2.png](attachment:image-2.png)\n",
    "  это проблемы юпитера, можно просто открыть файл в проводнике"
   ]
  },
  {
   "cell_type": "markdown",
   "id": "d2bf6137",
   "metadata": {},
   "source": [
    "# 2)\n",
    "\n",
    "Создать скрипт, которому в командной строке передаются имена файлов. \n",
    "\n",
    "В файлах в формате CSV с заголовком содержится информация о частоте слов: \n",
    "\n",
    "первый столбец - слово, второй столбце - частота. \n",
    "\n",
    "Выполнить агрегацию информации о частоте слов из всех переданных файлов (т.е. рассчитать суммарную частоту для всех упомянутых слов).\n",
    "\n",
    "Результат сохранить в файл с именем, которое введет пользователь в ответ на соответствующий запрос.\n",
    "# 2.2\n",
    "Оформить модуль с функциями, которые используются в задании 1 и 2 :"
   ]
  },
  {
   "cell_type": "code",
   "execution_count": 17,
   "id": "b741c14a",
   "metadata": {},
   "outputs": [
    {
     "name": "stdout",
     "output_type": "stream",
     "text": [
      "имя файла для сохранения результата: res_module.csv\n",
      "результат сохранен в res_module.csv\n",
      "с 6\n",
      "classinfo 4\n",
      "кортеж 4\n",
      "или 4\n",
      "object 3\n",
      "объект 3\n",
      "классами 3\n",
      "python 3\n",
      "310 3\n",
      "может 3\n"
     ]
    }
   ],
   "source": [
    "import hw_2_ex2 as hw\n",
    "\n",
    "\n",
    "hw.aggregate_files(['hw_2_ex2_text1.csv','hw_2_ex2_text2.csv','hw_2_ex2_text3.csv'])\n",
    "print()\n",
    "hw.analyze_file('hw_2_ex1_text.txt', 10)"
   ]
  },
  {
   "cell_type": "markdown",
   "id": "e3b42017",
   "metadata": {},
   "source": [
    "# 3\n",
    "3.1) Написать программу, которая запускается из консоли и считает сумму переданных в неё чисел\n",
    "\n",
    "3.2) Добавить в эту программу произведение\n",
    "\n",
    "3.3) По переданному параметру считать либо сумму, либо произведение\n",
    "\n",
    "3.4) Оформить это дополнительный модуль : \n"
   ]
  },
  {
   "cell_type": "code",
   "execution_count": 21,
   "id": "55bcca8e",
   "metadata": {},
   "outputs": [
    {
     "name": "stdout",
     "output_type": "stream",
     "text": [
      "[1, 2, 3, 10]\n",
      "сумма 16.0\n",
      "произведение 60.0\n"
     ]
    }
   ],
   "source": [
    "import hw_2_ex3 as hw3\n",
    "\n",
    "numbers = [1,2,3,10]\n",
    "print(numbers)\n",
    "print(f'сумма {hw3.sum_of_n(numbers)}')\n",
    "print(f'произведение {hw3.mult_of_n(numbers)}')"
   ]
  },
  {
   "cell_type": "markdown",
   "id": "3581d072",
   "metadata": {},
   "source": [
    "# 4\n",
    "Реализовать модуль calculate.py, содержащий набор функций для работы с целыми числами, записанными как на русском языке (например: тридцать восемь), так и в виде простых арифметических выражений (например: 2 + 3)."
   ]
  },
  {
   "cell_type": "code",
   "execution_count": 16,
   "id": "92696f92",
   "metadata": {},
   "outputs": [],
   "source": [
    "import hw_2_ex4 as hw4\n",
    "\n",
    "hw4.to_numbers('math','hw_2_ex4_text.txt', 'hw_2_ex4_text.txt')\n",
    "hw4.to_numbers('rus','hw_2_ex4_text.txt', 'hw_2_ex4_text2.txt')"
   ]
  }
 ],
 "metadata": {
  "kernelspec": {
   "display_name": "Python 3 (ipykernel)",
   "language": "python",
   "name": "python3"
  },
  "language_info": {
   "codemirror_mode": {
    "name": "ipython",
    "version": 3
   },
   "file_extension": ".py",
   "mimetype": "text/x-python",
   "name": "python",
   "nbconvert_exporter": "python",
   "pygments_lexer": "ipython3",
   "version": "3.11.5"
  }
 },
 "nbformat": 4,
 "nbformat_minor": 5
}
