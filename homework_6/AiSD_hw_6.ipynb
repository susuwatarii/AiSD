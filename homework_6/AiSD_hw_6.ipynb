{
 "cells": [
  {
   "cell_type": "markdown",
   "id": "e80fdbfe",
   "metadata": {},
   "source": [
    "### 25\n",
    "Класс – десятичная дробь. Методы класса – сумма, разность, произведение, частное десятичных дробей. Поля класса – целая и дробная часть числа."
   ]
  },
  {
   "cell_type": "code",
   "execution_count": 173,
   "id": "d3c9600e",
   "metadata": {},
   "outputs": [],
   "source": [
    "class DecimalFrac(object):  # decimal fraction\n",
    "    def __init__(self, int_part=0, dec_part='0'):\n",
    "        # такие поля класса по заданию\n",
    "        self.int_part = int_part \n",
    "        self.dec_part = dec_part  # строка так как возникает пробоема при использовании int если дробь имеет вид 1.00012\n",
    "            \n",
    "    # используются магические методы\n",
    "    # переопределение уже существующих методов\n",
    "    # ! длины дробных частей в виде строк должны быть одинаковы для проведения математических операций!\n",
    "    def __add__(self, other):  # сложение\n",
    "        if isinstance(other, DecimalFrac):\n",
    "            # складываем отдкльно целые и дробные части соответственно\n",
    "            res = DecimalFrac()\n",
    "            res.int_part = other.int_part + self.int_part\n",
    "            res.dec_part = int(other.dec_part) + int(self.dec_part)\n",
    "            if len(str(res.dec_part)) > len(other.dec_part):\n",
    "                # если в дробной части res получили переполнение, вычитаем из нее 1\n",
    "                # к целой части добавляем 1\n",
    "                res.dec_part -= 10**(len(str(res.dec_part))-1)\n",
    "                res.dec_part = str(res.dec_part)\n",
    "                res.int_part += 1\n",
    "            else:\n",
    "                res.dec_part = str(res.dec_part)\n",
    "            # если нужно добавляем нули в начало дробной части\n",
    "            res.dec_part = res.dec_part.zfill(len(other.dec_part))\n",
    "            return res\n",
    "        raise TypeError(\"Unsupported operand type\")\n",
    "    \n",
    "    def __sub__(self, other):  # вычетание\n",
    "        if isinstance(other, DecimalFrac):\n",
    "            res = DecimalFrac()\n",
    "            order = len(other.dec_part)\n",
    "            n = 10** order\n",
    "            # делаем из чисел целые и производим вычитание\n",
    "            res.int_part = str(int(str(self.int_part) + self.dec_part) - int(str(other.int_part) + other.dec_part))\n",
    "            # зная где целая и дробная части, разделяем полученное число\n",
    "            res.dec_part = res.int_part[-order:]\n",
    "            res.int_part = int(res.int_part[:len(res.int_part)-order])\n",
    "            return res\n",
    "        \n",
    "        raise TypeError(\"Unsupported operand type\")\n",
    "      \n",
    "    def __mul__(self, other):  # умножение\n",
    "        if isinstance(other, DecimalFrac):\n",
    "            res = DecimalFrac()\n",
    "            order = len(other.dec_part)\n",
    "            n = 10** order\n",
    "            # делаем из чисел целые и производим умножение\n",
    "            res.int_part = str(int(str(self.int_part) + self.dec_part) * int(str(other.int_part) + other.dec_part))\n",
    "            # зная где целая и дробная части, разделяем полученное число\n",
    "            res.dec_part = res.int_part[-order**2:]\n",
    "            res.int_part = int(res.int_part[:len(res.int_part)-order**2])\n",
    "            return res\n",
    "        raise TypeError(\"Unsupported operand type\")\n",
    "        \n",
    "    def __truediv__(self, other):  # деление\n",
    "        if isinstance(other, DecimalFrac):\n",
    "            res = DecimalFrac()\n",
    "            order = len(other.dec_part)\n",
    "            n = 10** order\n",
    "            # делаем из чисел целые и производим деление в 2 этапа\n",
    "            # точность деления - 5 знаков после запятой\n",
    "            divider = int(str(other.int_part) + other.dec_part)\n",
    "            print(divider)\n",
    "            res.int_part = str(int(str(self.int_part) + self.dec_part)*100000 // divider)\n",
    "            res.dec_part = res.int_part[-5:]\n",
    "            res.int_part = res.int_part[:len(res.int_part)-5]\n",
    "            return res\n",
    "        raise TypeError(\"Unsupported operand type\")\n",
    "\n",
    "    # просто для красивого вывода\n",
    "    def print_d(self):\n",
    "        print(str(self.int_part)+'.'+self.dec_part)\n",
    "    "
   ]
  },
  {
   "cell_type": "code",
   "execution_count": 174,
   "id": "1a860ac3",
   "metadata": {},
   "outputs": [
    {
     "name": "stdout",
     "output_type": "stream",
     "text": [
      "10.10001\n",
      "100.90009\n",
      "рузультат сложения\n",
      "111.00010\n"
     ]
    }
   ],
   "source": [
    "# пример сложения\n",
    "dec = DecimalFrac(10, '10001')\n",
    "dec2 = DecimalFrac(100, '90009')\n",
    "dec3 = dec + dec2\n",
    "dec.print_d()\n",
    "dec2.print_d()\n",
    "print('рузультат сложения')\n",
    "dec3.print_d()"
   ]
  },
  {
   "cell_type": "code",
   "execution_count": 175,
   "id": "aa878427",
   "metadata": {},
   "outputs": [
    {
     "name": "stdout",
     "output_type": "stream",
     "text": [
      "20.00101\n",
      "0.90990\n",
      "рузультат сложения\n",
      "20.91091\n"
     ]
    }
   ],
   "source": [
    "# пример сложения\n",
    "dec = DecimalFrac(20, '00101')\n",
    "dec2 = DecimalFrac(0, '90990')\n",
    "dec3 = dec + dec2\n",
    "dec.print_d()\n",
    "dec2.print_d()\n",
    "print('рузультат сложения')\n",
    "dec3.print_d()"
   ]
  },
  {
   "cell_type": "code",
   "execution_count": 176,
   "id": "d08aeacf",
   "metadata": {},
   "outputs": [
    {
     "name": "stdout",
     "output_type": "stream",
     "text": [
      "0.90990\n",
      "20.00101\n",
      "рузультат вычитания\n",
      "19.09111\n"
     ]
    }
   ],
   "source": [
    "# пример вычитания\n",
    "dec = DecimalFrac(20, '00101')\n",
    "dec2 = DecimalFrac(0, '90990')\n",
    "dec2.print_d()\n",
    "dec.print_d()\n",
    "dec3 = dec - dec2\n",
    "print('рузультат вычитания')\n",
    "dec3.print_d()"
   ]
  },
  {
   "cell_type": "code",
   "execution_count": 177,
   "id": "3727f66a",
   "metadata": {},
   "outputs": [
    {
     "name": "stdout",
     "output_type": "stream",
     "text": [
      "20.10101\n",
      "0.90990\n",
      "рузультат вычитания\n",
      "-19.19111\n"
     ]
    }
   ],
   "source": [
    "# пример вычитания\n",
    "dec = DecimalFrac(20, '10101')\n",
    "dec2 = DecimalFrac(0, '90990')\n",
    "dec.print_d()\n",
    "dec2.print_d()\n",
    "dec3 = dec2 - dec\n",
    "print('рузультат вычитания')\n",
    "dec3.print_d()"
   ]
  },
  {
   "cell_type": "code",
   "execution_count": 178,
   "id": "db016805",
   "metadata": {},
   "outputs": [
    {
     "name": "stdout",
     "output_type": "stream",
     "text": [
      "10.81\n",
      "5.09\n",
      "рузультат умножения\n",
      "55.0229\n"
     ]
    }
   ],
   "source": [
    "# пример умножения\n",
    "dec = DecimalFrac(10, '81')\n",
    "dec2 = DecimalFrac(5, '09')\n",
    "dec.print_d()\n",
    "dec2.print_d()\n",
    "dec3 = dec2 * dec\n",
    "print('рузультат умножения')\n",
    "dec3.print_d()"
   ]
  },
  {
   "cell_type": "code",
   "execution_count": 179,
   "id": "9e106cfb",
   "metadata": {},
   "outputs": [
    {
     "name": "stdout",
     "output_type": "stream",
     "text": [
      "10.81\n",
      "5.09\n",
      "509\n",
      "рузультат деления\n",
      "2.12377\n"
     ]
    }
   ],
   "source": [
    "# пример деления\n",
    "dec = DecimalFrac(10, '81')\n",
    "dec2 = DecimalFrac(5, '09')\n",
    "dec.print_d()\n",
    "dec2.print_d()\n",
    "dec3 = dec / dec2\n",
    "print('рузультат деления')\n",
    "dec3.print_d()"
   ]
  },
  {
   "cell_type": "code",
   "execution_count": 180,
   "id": "2c4cec55",
   "metadata": {},
   "outputs": [
    {
     "name": "stdout",
     "output_type": "stream",
     "text": [
      "0\n"
     ]
    },
    {
     "ename": "ZeroDivisionError",
     "evalue": "integer division or modulo by zero",
     "output_type": "error",
     "traceback": [
      "\u001b[1;31m---------------------------------------------------------------------------\u001b[0m",
      "\u001b[1;31mZeroDivisionError\u001b[0m                         Traceback (most recent call last)",
      "Cell \u001b[1;32mIn[180], line 4\u001b[0m\n\u001b[0;32m      2\u001b[0m dec \u001b[38;5;241m=\u001b[39m DecimalFrac(\u001b[38;5;241m10\u001b[39m, \u001b[38;5;124m'\u001b[39m\u001b[38;5;124m81\u001b[39m\u001b[38;5;124m'\u001b[39m)\n\u001b[0;32m      3\u001b[0m dec2 \u001b[38;5;241m=\u001b[39m DecimalFrac(\u001b[38;5;241m0\u001b[39m, \u001b[38;5;124m'\u001b[39m\u001b[38;5;124m00\u001b[39m\u001b[38;5;124m'\u001b[39m)\n\u001b[1;32m----> 4\u001b[0m dec3 \u001b[38;5;241m=\u001b[39m dec\u001b[38;5;241m/\u001b[39mdec2\n\u001b[0;32m      5\u001b[0m dec3\u001b[38;5;241m.\u001b[39mprint_d()\n\u001b[0;32m      6\u001b[0m \u001b[38;5;28mprint\u001b[39m(dec3)\n",
      "Cell \u001b[1;32mIn[173], line 65\u001b[0m, in \u001b[0;36mDecimalFrac.__truediv__\u001b[1;34m(self, other)\u001b[0m\n\u001b[0;32m     63\u001b[0m divider \u001b[38;5;241m=\u001b[39m \u001b[38;5;28mint\u001b[39m(\u001b[38;5;28mstr\u001b[39m(other\u001b[38;5;241m.\u001b[39mint_part) \u001b[38;5;241m+\u001b[39m other\u001b[38;5;241m.\u001b[39mdec_part)\n\u001b[0;32m     64\u001b[0m \u001b[38;5;28mprint\u001b[39m(divider)\n\u001b[1;32m---> 65\u001b[0m res\u001b[38;5;241m.\u001b[39mint_part \u001b[38;5;241m=\u001b[39m \u001b[38;5;28mstr\u001b[39m(\u001b[38;5;28mint\u001b[39m(\u001b[38;5;28mstr\u001b[39m(\u001b[38;5;28mself\u001b[39m\u001b[38;5;241m.\u001b[39mint_part) \u001b[38;5;241m+\u001b[39m \u001b[38;5;28mself\u001b[39m\u001b[38;5;241m.\u001b[39mdec_part)\u001b[38;5;241m*\u001b[39m\u001b[38;5;241m100000\u001b[39m \u001b[38;5;241m/\u001b[39m\u001b[38;5;241m/\u001b[39m divider)\n\u001b[0;32m     66\u001b[0m res\u001b[38;5;241m.\u001b[39mdec_part \u001b[38;5;241m=\u001b[39m res\u001b[38;5;241m.\u001b[39mint_part[\u001b[38;5;241m-\u001b[39m\u001b[38;5;241m5\u001b[39m:]\n\u001b[0;32m     67\u001b[0m res\u001b[38;5;241m.\u001b[39mint_part \u001b[38;5;241m=\u001b[39m res\u001b[38;5;241m.\u001b[39mint_part[:\u001b[38;5;28mlen\u001b[39m(res\u001b[38;5;241m.\u001b[39mint_part)\u001b[38;5;241m-\u001b[39m\u001b[38;5;241m5\u001b[39m]\n",
      "\u001b[1;31mZeroDivisionError\u001b[0m: integer division or modulo by zero"
     ]
    }
   ],
   "source": [
    "# пример деления\n",
    "dec = DecimalFrac(10, '81')\n",
    "dec2 = DecimalFrac(0, '00')\n",
    "dec3 = dec/dec2\n",
    "dec3.print_d()\n",
    "print(dec3)"
   ]
  },
  {
   "cell_type": "markdown",
   "id": "06596e5d",
   "metadata": {},
   "source": [
    "### 26\n",
    "Опишите класс Triangle, заданный длинами сторон. Включите в описание класса методы, позволяющие вывести длины сторон треугольника на экран, рассчитать периметр, площадь и высоты треугольника и свойство, позволяющее установить, существует ли треугольник с данными длинами сторон."
   ]
  },
  {
   "cell_type": "code",
   "execution_count": 78,
   "id": "739a0f81",
   "metadata": {},
   "outputs": [],
   "source": [
    "class Triangle(object):\n",
    "    def __init__(self, side1, side2, side3):\n",
    "        self.side1 = side1\n",
    "        self.side2 = side2\n",
    "        self.side3 = side3\n",
    "\n",
    "    def print_sides(self):\n",
    "        print('Side 1:', self.side1)\n",
    "        print('Side 2:', self.side2)\n",
    "        print('Side 3:', self.side3)\n",
    "\n",
    "    def get_perimeter(self):  # рассчитать периметр\n",
    "        if self.exist():\n",
    "            return self.side1 + self.side2 + self.side3\n",
    "        else:\n",
    "            return None\n",
    "\n",
    "    def get_area(self):  # рассчитатьт площадь\n",
    "        if self.exist():\n",
    "            p = self.get_perimeter() / 2  # полупериметр\n",
    "            return (p * (p - self.side1) * (p - self.side2) * (p - self.side3)) ** 0.5\n",
    "        else:\n",
    "            return None\n",
    "\n",
    "    def get_heights(self):  # рассчитатьт высоты\n",
    "        if self.exist():\n",
    "            p = self.get_perimeter() / 2  # полупериметр\n",
    "            height1 = (self.get_area() / self.side1) * 2\n",
    "            height2 = (self.get_area() / self.side2) * 2\n",
    "            height3 = (self.get_area() / self.side3) * 2\n",
    "            return height1, height2, height3\n",
    "        else:\n",
    "            return None\n",
    "\n",
    "    def exist(self):  # проверка, существует ли такой треугольник\n",
    "        if self.side1 + self.side2 > self.side3 and self.side1 + self.side3 > self.side2 \\\n",
    "            and self.side2 + self.side3 > self.side1:\n",
    "            return True\n",
    "        else:\n",
    "            return False"
   ]
  },
  {
   "cell_type": "code",
   "execution_count": 30,
   "id": "8e338d7c",
   "metadata": {},
   "outputs": [
    {
     "name": "stdout",
     "output_type": "stream",
     "text": [
      "True\n",
      "Side 1: 3\n",
      "Side 2: 4\n",
      "Side 3: 5\n",
      "12\n",
      "6.0\n",
      "(4.0, 3.0, 2.4)\n"
     ]
    }
   ],
   "source": [
    "tr1 = Triangle(3,4,5)\n",
    "print(tr1.exist())\n",
    "tr1.print_sides()\n",
    "print(tr1.get_perimeter())\n",
    "print(tr1.get_area())\n",
    "print(tr1.get_heights())"
   ]
  },
  {
   "cell_type": "code",
   "execution_count": 32,
   "id": "7d6e00c2",
   "metadata": {},
   "outputs": [
    {
     "name": "stdout",
     "output_type": "stream",
     "text": [
      "False\n",
      "Side 1: 1\n",
      "Side 2: 2\n",
      "Side 3: 3\n",
      "None\n",
      "None\n",
      "None\n"
     ]
    }
   ],
   "source": [
    "tr1 = Triangle(1,2,3)\n",
    "print(tr1.exist())\n",
    "tr1.print_sides()\n",
    "print(tr1.get_perimeter())\n",
    "print(tr1.get_area())\n",
    "print(tr1.get_heights())"
   ]
  },
  {
   "cell_type": "markdown",
   "id": "651ebb3a",
   "metadata": {},
   "source": [
    "### 27\n",
    "Создайте класс ИЗДАНИЕ с методом, позволяющим вывести на экран информацию об издании, а также определить, является ли данное издание искомым. Создайте дочерние классы КНИГА (название, фамилия автора, год издания, издательство), СТАТЬЯ (название, фамилия автора, название журнала, его номер и год издания), ЭЛЕКТРОННЫЙ РЕСУРС (название, фамилия автора, ссылка, аннотация) со своими методами вывода информации на экран. Создайте список из  n  изданий, выведите полную информацию из списка, а также организуйте поиск изданий по фамилии автора."
   ]
  },
  {
   "cell_type": "code",
   "execution_count": 34,
   "id": "746152dc",
   "metadata": {},
   "outputs": [],
   "source": [
    "class Edition(object):  # ИЗДАНИЕ\n",
    "    def __init__(self, book_name, author):\n",
    "        self.book_name = book_name\n",
    "        self.author = author\n",
    "\n",
    "    def print_info(self):\n",
    "        print(f'Название: {self.book_name}')\n",
    "        print(f'Фамилия автора: {self.author}')\n",
    "\n",
    "    def compare(self, author):\n",
    "        if self.author == author:\n",
    "            return True\n",
    "        return False\n"
   ]
  },
  {
   "cell_type": "code",
   "execution_count": 35,
   "id": "efde1cdd",
   "metadata": {},
   "outputs": [],
   "source": [
    "# классы - наследники Edition\n",
    "class Book(Edition):  # КНИГА\n",
    "    def __init__(self, book_name, author, year, published_by):\n",
    "        super().__init__(book_name, author)\n",
    "        self.year = year\n",
    "        self.published_by = published_by\n",
    "\n",
    "    def print_info(self):\n",
    "        super().print_info()\n",
    "        print(f'Год издания: {self.year}')\n",
    "        print(f'Издательство: {self.published_by}')\n",
    "\n",
    "\n",
    "class Article(Edition):  # СТАТЬЯ\n",
    "    def __init__(self, article_name, author, magazine, number, year):\n",
    "        super().__init__(article_name, author)\n",
    "        self.magazine = magazine\n",
    "        self.number = number\n",
    "        self.year = year\n",
    "\n",
    "    def print_info(self):\n",
    "        super().print_info()\n",
    "        print(f'Журнал: {self.magazine}')\n",
    "        print(f'Номер: {self.number}')\n",
    "        print(f'Год издания: {self.year}')\n",
    "        \n",
    "        \n",
    "class ElResource(Edition):  # ЭЛЕКТРОННЫЙ РЕСУРС\n",
    "    def __init__(self, resource_name, author, link, annotation):\n",
    "        super().__init__(resource_name, author)\n",
    "        self.link = link\n",
    "        self.annotation = annotation\n",
    "\n",
    "    def print_info(self):\n",
    "        super().print_info()\n",
    "        print(f'Ссылка: {self.link}')\n",
    "        print(f'Аннотация: {self.annotation}')\n",
    "        "
   ]
  },
  {
   "cell_type": "code",
   "execution_count": 40,
   "id": "6d8fed1b",
   "metadata": {},
   "outputs": [
    {
     "name": "stdout",
     "output_type": "stream",
     "text": [
      "Название: Имя ветра\n",
      "Фамилия автора: Ротфусс\n",
      "Год издания: 2007\n",
      "Издательство: Издательство N\n",
      "\n",
      "Название: Исследование по физике\n",
      "Фамилия автора: Храмченков\n",
      "Журнал: Научный журнал\n",
      "Номер: 10\n",
      "Год издания: 2000\n",
      "\n",
      "Название: Википедия\n",
      "Фамилия автора: Много кто\n",
      "Ссылка: https://en.wikipedia.org/wiki/Main_Page\n",
      "Аннотация: Online encyclopedia\n",
      "\n",
      "\n",
      "\n",
      "поиск изданий по фамилии автора - Ротфусс\n",
      "Название: Имя ветра\n",
      "Фамилия автора: Ротфусс\n",
      "Год издания: 2007\n",
      "Издательство: Издательство N\n"
     ]
    }
   ],
   "source": [
    "# список изданий\n",
    "edition_list = [\n",
    "    Book('Имя ветра', 'Ротфусс', 2007, 'Издательство N'),\n",
    "    Article('Исследование по физике', 'Храмченков', 'Научный журнал', 10, 2000),\n",
    "    ElResource('Википедия', 'Много кто', 'https://en.wikipedia.org/wiki/Main_Page', 'Online encyclopedia')\n",
    "          ]\n",
    "\n",
    "# выводим информацию о всех изданиях\n",
    "for ed in edition_list:\n",
    "    ed.print_info()\n",
    "    print()\n",
    "\n",
    "# поиск изданий по фамилии автора\n",
    "print('\\n\\nпоиск изданий по фамилии автора - Ротфусс')\n",
    "author = 'Ротфусс'\n",
    "for ed in edition_list:\n",
    "    if ed.compare(author):\n",
    "        ed.print_info()"
   ]
  }
 ],
 "metadata": {
  "kernelspec": {
   "display_name": "Python 3 (ipykernel)",
   "language": "python",
   "name": "python3"
  },
  "language_info": {
   "codemirror_mode": {
    "name": "ipython",
    "version": 3
   },
   "file_extension": ".py",
   "mimetype": "text/x-python",
   "name": "python",
   "nbconvert_exporter": "python",
   "pygments_lexer": "ipython3",
   "version": "3.11.5"
  }
 },
 "nbformat": 4,
 "nbformat_minor": 5
}
