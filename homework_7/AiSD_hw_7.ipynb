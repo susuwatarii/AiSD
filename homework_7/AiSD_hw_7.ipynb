{
 "cells": [
  {
   "cell_type": "markdown",
   "id": "73783ebf",
   "metadata": {},
   "source": [
    "вариант 3"
   ]
  },
  {
   "cell_type": "markdown",
   "id": "f9d329fa",
   "metadata": {},
   "source": [
    "### 25\n",
    "Класс – натуральная дробь. Методы класса – сумма, разность, произведение, частное натуральных дробей. Поля класса – числитель и знаменатель дроби.\n",
    "\n"
   ]
  },
  {
   "cell_type": "code",
   "execution_count": 33,
   "id": "f05e7e31",
   "metadata": {},
   "outputs": [],
   "source": [
    "class NaturalFrac(object):\n",
    "    def __init__(self, numerator=None, denominator=None):\n",
    "        if denominator == 0:\n",
    "            raise ValueError\n",
    "        self.numerator = numerator  # ислитель\n",
    "        self.denominator = denominator  # знаменатьель\n",
    "        \n",
    "    def __add__(self, other):  # сумма + \n",
    "        res = NaturalFrac()\n",
    "        res.denominator = self.denominator * other.denominator\n",
    "        res.numerator = self.numerator * other.denominator + other.numerator * self.denominator\n",
    "        return res\n",
    "\n",
    "    def __sub__(self, other):  # разность -\n",
    "        res = NaturalFrac()\n",
    "        res.denominator = self.denominator * other.denominator\n",
    "        res.numerator = self.numerator * other.denominator - other.numerator * self.denominator\n",
    "        return res\n",
    "    \n",
    "    def __mul__(self, other):  # произведение *\n",
    "        res = NaturalFrac()\n",
    "        res.denominator = self.denominator * other.denominator\n",
    "        res.numerator = self.numerator * other.numerator\n",
    "        return res\n",
    "        \n",
    "        \n",
    "    def __truediv__(self, other):  # деление /\n",
    "        other.numerator, other.denominator = other.denominator, other.numerator  # переворачиваем вторую дробь\n",
    "        return self * other \n",
    "        \n",
    "    def __str__(self):  # определение str() для данного класса\n",
    "        return str(self.numerator)+'/'+str(self.denominator)\n",
    "        "
   ]
  },
  {
   "cell_type": "markdown",
   "id": "63d29fff",
   "metadata": {},
   "source": [
    "проверим коорректность работы кода"
   ]
  },
  {
   "cell_type": "code",
   "execution_count": 40,
   "id": "7db36394",
   "metadata": {},
   "outputs": [
    {
     "name": "stdout",
     "output_type": "stream",
     "text": [
      "13/14\n"
     ]
    }
   ],
   "source": [
    "n_frac1 = NaturalFrac(1,2)\n",
    "n_frac2 = NaturalFrac(3,7)\n",
    "print(str(n_frac1 + n_frac2))"
   ]
  },
  {
   "cell_type": "code",
   "execution_count": 41,
   "id": "74e0ffde",
   "metadata": {},
   "outputs": [
    {
     "name": "stdout",
     "output_type": "stream",
     "text": [
      "3/14\n"
     ]
    }
   ],
   "source": [
    "n_frac1 = NaturalFrac(1,2)\n",
    "n_frac2 = NaturalFrac(3,7)\n",
    "print(str(n_frac1 * n_frac2))"
   ]
  },
  {
   "cell_type": "code",
   "execution_count": 42,
   "id": "66a54257",
   "metadata": {},
   "outputs": [
    {
     "name": "stdout",
     "output_type": "stream",
     "text": [
      "1/14\n"
     ]
    }
   ],
   "source": [
    "n_frac1 = NaturalFrac(1,2)\n",
    "n_frac2 = NaturalFrac(3,7)\n",
    "print(str(n_frac1 - n_frac2))"
   ]
  },
  {
   "cell_type": "code",
   "execution_count": 43,
   "id": "4b608a1c",
   "metadata": {},
   "outputs": [
    {
     "name": "stdout",
     "output_type": "stream",
     "text": [
      "7/6\n"
     ]
    }
   ],
   "source": [
    "n_frac1 = NaturalFrac(1,2)\n",
    "n_frac2 = NaturalFrac(3,7)\n",
    "print(str(n_frac1 / n_frac2))"
   ]
  },
  {
   "cell_type": "code",
   "execution_count": 44,
   "id": "648228d8",
   "metadata": {},
   "outputs": [
    {
     "ename": "ValueError",
     "evalue": "",
     "output_type": "error",
     "traceback": [
      "\u001b[1;31m---------------------------------------------------------------------------\u001b[0m",
      "\u001b[1;31mValueError\u001b[0m                                Traceback (most recent call last)",
      "Cell \u001b[1;32mIn[44], line 2\u001b[0m\n\u001b[0;32m      1\u001b[0m \u001b[38;5;66;03m# нельзя делить на 0 -> ошибка\u001b[39;00m\n\u001b[1;32m----> 2\u001b[0m n_frac1 \u001b[38;5;241m=\u001b[39m NaturalFrac(\u001b[38;5;241m10\u001b[39m,\u001b[38;5;241m0\u001b[39m)\n",
      "Cell \u001b[1;32mIn[33], line 7\u001b[0m, in \u001b[0;36mNaturalFrac.__init__\u001b[1;34m(self, numerator, denominator)\u001b[0m\n\u001b[0;32m      5\u001b[0m \u001b[38;5;28;01mdef\u001b[39;00m \u001b[38;5;21m__init__\u001b[39m(\u001b[38;5;28mself\u001b[39m, numerator\u001b[38;5;241m=\u001b[39m\u001b[38;5;28;01mNone\u001b[39;00m, denominator\u001b[38;5;241m=\u001b[39m\u001b[38;5;28;01mNone\u001b[39;00m):\n\u001b[0;32m      6\u001b[0m     \u001b[38;5;28;01mif\u001b[39;00m denominator \u001b[38;5;241m==\u001b[39m \u001b[38;5;241m0\u001b[39m:\n\u001b[1;32m----> 7\u001b[0m         \u001b[38;5;28;01mraise\u001b[39;00m \u001b[38;5;167;01mValueError\u001b[39;00m\n\u001b[0;32m      8\u001b[0m     \u001b[38;5;28mself\u001b[39m\u001b[38;5;241m.\u001b[39mnumerator \u001b[38;5;241m=\u001b[39m numerator  \u001b[38;5;66;03m# ислитель\u001b[39;00m\n\u001b[0;32m      9\u001b[0m     \u001b[38;5;28mself\u001b[39m\u001b[38;5;241m.\u001b[39mdenominator \u001b[38;5;241m=\u001b[39m denominator\n",
      "\u001b[1;31mValueError\u001b[0m: "
     ]
    }
   ],
   "source": [
    "# нельзя делить на 0 -> ошибка\n",
    "n_frac1 = NaturalFrac(10,0)"
   ]
  },
  {
   "cell_type": "markdown",
   "id": "f6958dad",
   "metadata": {},
   "source": [
    "### 26\n",
    "Опишите класс Rectangle, заданный длинами сторон. Включите в описа-ние класса методы, позволяющие вывести длины сторон прямоугольника на экран, рассчитать периметр, площадь и диагональ прямоугольника, изменить его размеры, умножив его длины на скаляр, и свойство, позволяющее установить, является ли данный прямоугольник квадратом."
   ]
  },
  {
   "cell_type": "code",
   "execution_count": 49,
   "id": "2dc9be1d",
   "metadata": {},
   "outputs": [],
   "source": [
    "class Rectangle(object):  # класс Прямоугольник\n",
    "    def __init__(self, side_a=0, side_b=0):\n",
    "        self.side_a = side_a\n",
    "        self.side_b = side_b\n",
    "    \n",
    "    def print_sides(self):  # вывод длин сторон\n",
    "        print(f'длины сторон: {self.side_a} и {self.side_b}')\n",
    "        \n",
    "    def get_perimeter(self):  # рассчитать периметр\n",
    "        return (self.side_a + self.side_b) * 2\n",
    "    \n",
    "    def get_area(self):  # рассчитать площадь\n",
    "        return self.side_a * self.side_b\n",
    "    \n",
    "    def get_diogonal(self):  # рассчитать диагональ\n",
    "        return (self.side_a**2 + self.side_b**2) ** 0.5\n",
    "    \n",
    "    def mult_scal(self, scalar):  # умножение сторон на скаляр\n",
    "        self.side_a *= scalar\n",
    "        self.side_b *= scalar\n",
    "        \n",
    "    def is_square(self):\n",
    "        if self.side_a == self.side_b:\n",
    "            return True\n",
    "        return False\n",
    "    "
   ]
  },
  {
   "cell_type": "markdown",
   "id": "2885af8c",
   "metadata": {},
   "source": [
    "проверим коорректность работы кода"
   ]
  },
  {
   "cell_type": "code",
   "execution_count": 51,
   "id": "9f88e333",
   "metadata": {},
   "outputs": [
    {
     "name": "stdout",
     "output_type": "stream",
     "text": [
      "длины сторон: 3 и 4\n",
      "14\n",
      "12\n",
      "5.0\n",
      "длины сторон: 30 и 40\n",
      "False\n"
     ]
    }
   ],
   "source": [
    "rec1 = Rectangle(3,4)\n",
    "rec1.print_sides()\n",
    "print(rec1.get_perimeter())\n",
    "print(rec1.get_area())\n",
    "print(rec1.get_diogonal())\n",
    "rec1.mult_scal(10)\n",
    "rec1.print_sides()\n",
    "print(rec1.is_square())"
   ]
  },
  {
   "cell_type": "code",
   "execution_count": 52,
   "id": "b06c41bb",
   "metadata": {},
   "outputs": [
    {
     "name": "stdout",
     "output_type": "stream",
     "text": [
      "длины сторон: 5 и 5\n",
      "True\n"
     ]
    }
   ],
   "source": [
    "rec1 = Rectangle(5,5)\n",
    "rec1.print_sides()\n",
    "print(rec1.is_square())"
   ]
  },
  {
   "cell_type": "markdown",
   "id": "f7ec7f29",
   "metadata": {},
   "source": [
    "### 27\n",
    "Создайте класс ТРЕУГОЛЬНИК, заданный длинами двух сторон и угла между ними, \n",
    "\n",
    "с методами вычисления площади и периметра треугольника, а также методом, выводящим информацию о фигуре на экран. \n",
    "\n",
    "Создайте дочерние классы ПРЯМОУГОЛЬНЫЙ, РАВНОБЕДРЕННЫЙ, РАВНОСТОРОННИЙ со своими методами вычисления площади и периметра. \n",
    "\n",
    "Создайте список  n  треугольников и выведите полную информацию о треугольниках на экран."
   ]
  },
  {
   "cell_type": "code",
   "execution_count": 60,
   "id": "7d956fcb",
   "metadata": {},
   "outputs": [],
   "source": [
    "import math"
   ]
  },
  {
   "cell_type": "code",
   "execution_count": 93,
   "id": "c0e38a70",
   "metadata": {},
   "outputs": [],
   "source": [
    "class Triangle(object):\n",
    "    def __init__(self, side1=0, side2=0, angle=0):  # угол в градусах, далее в коде используем радианы, 1 рад ~ 57 градусов\n",
    "        self.side1 = side1\n",
    "        self.side2 = side2\n",
    "        self.angle = math.radians(angle)\n",
    "    \n",
    "    def get_perimeter(self):  # рассчитать периметр\n",
    "        return self.side1 + self.side2 + (self.side1**2 + self.side2**2 - 2*self.side1*self.side2*math.cos(self.angle))**0.5\n",
    "    \n",
    "    def get_area(self):  # рассчитать площадь\n",
    "        return 0.5 * self.side1 * self.side2 * math.sin(self.angle)\n",
    "        \n",
    "    def print_info(self):\n",
    "        print(f'стороны {self.side1}, {self.side2} и угол между ними { math.degrees(self.angle)}')\n",
    "        print(f'периметр {self.get_perimeter()}')\n",
    "        print(f'площадь {self.get_area()}')\n",
    "        "
   ]
  },
  {
   "cell_type": "markdown",
   "id": "7e38b25d",
   "metadata": {},
   "source": [
    "проверим коорректность работы кода для класса Triangle"
   ]
  },
  {
   "cell_type": "code",
   "execution_count": 94,
   "id": "ec599752",
   "metadata": {},
   "outputs": [
    {
     "name": "stdout",
     "output_type": "stream",
     "text": [
      "стороны 4, 3 и угол между ними 90.0\n",
      "периметр 12.0\n",
      "площадь 6.0\n"
     ]
    }
   ],
   "source": [
    "tr1 = Triangle(4, 3, 90)  # этот треугольник очень близок к прямоугольному со сторонамми 3,4,5\n",
    "tr1.print_info()"
   ]
  },
  {
   "cell_type": "code",
   "execution_count": 95,
   "id": "79ebf0b7",
   "metadata": {},
   "outputs": [
    {
     "name": "stdout",
     "output_type": "stream",
     "text": [
      "стороны 6, 6 и угол между ними 59.99999999999999\n",
      "периметр 18.0\n",
      "площадь 15.588457268119894\n"
     ]
    }
   ],
   "source": [
    "tr1 = Triangle(6, 6, 60)  # этот треугольник очень близок к прямоугольному со сторонамми 3,4,5\n",
    "tr1.print_info()"
   ]
  },
  {
   "cell_type": "code",
   "execution_count": 99,
   "id": "e51a4a80",
   "metadata": {},
   "outputs": [],
   "source": [
    "# ПРЯМОУГОЛЬНЫЙ\n",
    "class RightTriangle(Triangle):\n",
    "    def __init__(self, side1=0, side2=0):  # при создании объекта задаем катеты\n",
    "        super().__init__(side1, side2, 90)\n",
    "        \n",
    "    def get_perimeter(self):  # рассчитать периметр\n",
    "        return self.side1 + self.side2 + (self.side1**2 + self.side2**2)**0.5\n",
    "    \n",
    "    def get_area(self):  # рассчитать площадь\n",
    "        return 0.5 * self.side1 * self.side2\n",
    "\n",
    "    \n",
    "# РАВНОБЕДРЕННЫЙ\n",
    "class IsoTriangle(Triangle):  # isosceles triangle\n",
    "    def __init__(self, side=0, base =0):  # при создании объекта задаем боковую сторону и основание\n",
    "        # находим угол между стороной и основанием\n",
    "        angle_in_radians = math.acos(0.5*base/side)\n",
    "        angle_in_degrees = math.degrees(angle_in_radians)\n",
    "        super().__init__(side, base, angle_in_degrees)\n",
    "        \n",
    "    def get_perimeter(self):  # рассчитать периметр\n",
    "        return self.side1 * 2 + self.side2\n",
    "    \n",
    "    def get_area(self):  # рассчитать площадь\n",
    "        p = self.get_perimeter()/2\n",
    "        return (p*(p-self.side1)**2*(p-self.side2))**0.5\n",
    "\n",
    "    \n",
    "# РАВНОСТОРОННИЙ\n",
    "class EquilTriangle(Triangle):  # equilateral triangle\n",
    "    def __init__(self, side1=0):  # при создании объекта задаем только одну сторону\n",
    "        super().__init__(side1, side1, 60)\n",
    "        \n",
    "    def get_perimeter(self):  # рассчитать периметр\n",
    "        return self.side1 * 3\n",
    "    \n",
    "    def get_area(self):  # рассчитать площадь\n",
    "        return self.side1**2 * 3**0.5 / 4\n",
    "    "
   ]
  },
  {
   "cell_type": "markdown",
   "id": "a1c2daa9",
   "metadata": {},
   "source": [
    "проверим коорректность работы кода для классов IsoTriangle, EquilTriangle"
   ]
  },
  {
   "cell_type": "code",
   "execution_count": 100,
   "id": "f1340fd7",
   "metadata": {},
   "outputs": [
    {
     "name": "stdout",
     "output_type": "stream",
     "text": [
      "стороны 6, 6 и угол между ними 60.00000000000001\n",
      "периметр 18\n",
      "площадь 15.588457268119896\n",
      "стороны 6, 6 и угол между ними 59.99999999999999\n",
      "периметр 18\n",
      "площадь 15.588457268119894\n"
     ]
    }
   ],
   "source": [
    "tr1 = IsoTriangle(6,6)\n",
    "tr1.print_info()\n",
    "tr2 = EquilTriangle(6)\n",
    "tr2.print_info()"
   ]
  },
  {
   "cell_type": "markdown",
   "id": "5aab63e3",
   "metadata": {},
   "source": [
    "Создайте список n треугольников и выведите полную информацию о треугольниках на экран."
   ]
  },
  {
   "cell_type": "code",
   "execution_count": 103,
   "id": "329c3c26",
   "metadata": {},
   "outputs": [
    {
     "name": "stdout",
     "output_type": "stream",
     "text": [
      "стороны 6, 6 и угол между ними 60.00000000000001\n",
      "периметр 18\n",
      "площадь 15.588457268119896\n",
      "\n",
      "стороны 4, 6 и угол между ними 41.40962210927086\n",
      "периметр 14\n",
      "площадь 7.937253933193772\n",
      "\n",
      "стороны 6, 6 и угол между ними 59.99999999999999\n",
      "периметр 18\n",
      "площадь 15.588457268119894\n",
      "\n",
      "стороны 60, 60 и угол между ними 59.99999999999999\n",
      "периметр 180\n",
      "площадь 1558.8457268119894\n",
      "\n",
      "стороны 3, 4 и угол между ними 90.0\n",
      "периметр 12.0\n",
      "площадь 6.0\n",
      "\n",
      "стороны 5, 12 и угол между ними 90.0\n",
      "периметр 30.0\n",
      "площадь 30.0\n",
      "\n"
     ]
    }
   ],
   "source": [
    "lst = [IsoTriangle(6, 6), IsoTriangle(4, 6), EquilTriangle(6), EquilTriangle(60), RightTriangle(3, 4), RightTriangle(5, 12)]\n",
    "for tr in lst:\n",
    "    tr.print_info()\n",
    "    print()"
   ]
  }
 ],
 "metadata": {
  "kernelspec": {
   "display_name": "Python 3 (ipykernel)",
   "language": "python",
   "name": "python3"
  },
  "language_info": {
   "codemirror_mode": {
    "name": "ipython",
    "version": 3
   },
   "file_extension": ".py",
   "mimetype": "text/x-python",
   "name": "python",
   "nbconvert_exporter": "python",
   "pygments_lexer": "ipython3",
   "version": "3.11.5"
  }
 },
 "nbformat": 4,
 "nbformat_minor": 5
}
