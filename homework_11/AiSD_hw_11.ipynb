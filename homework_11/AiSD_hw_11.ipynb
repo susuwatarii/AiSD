{
 "cells": [
  {
   "cell_type": "markdown",
   "id": "09c915e2",
   "metadata": {},
   "source": [
    "а) Создать класс «Товар» с полями «Название», «Цена» и «Количество». Создать хеш-таблицу для хранения объектов класса «Товар» по ключу — артикулу товара."
   ]
  },
  {
   "cell_type": "code",
   "execution_count": 12,
   "id": "683c35ff",
   "metadata": {},
   "outputs": [],
   "source": [
    "class Product(object):\n",
    "    def __init__(self, id, name, price, quantity):\n",
    "        self.id = id\n",
    "        self.name = name\n",
    "        self.price = price\n",
    "        self.quantity = quantity\n"
   ]
  },
  {
   "cell_type": "code",
   "execution_count": 13,
   "id": "18422576",
   "metadata": {},
   "outputs": [
    {
     "name": "stdout",
     "output_type": "stream",
     "text": [
      "{12345: <__main__.Product object at 0x000001E4CA927050>, 67890: <__main__.Product object at 0x000001E4CA9808D0>, 23456: <__main__.Product object at 0x000001E4CA982D50>}\n"
     ]
    }
   ],
   "source": [
    "# хеш таблица в виде словаря\n",
    "hash_table = {}\n",
    "\n",
    "hash_table[12345] = Product(12345, \"Product 1\", 100, 5)\n",
    "hash_table[67890] = Product(67890, \"Product 2\", 200, 10)\n",
    "hash_table[23456] = Product(23456, \"Product 3\", 300, 15)\n",
    "\n",
    "print(hash_table)"
   ]
  },
  {
   "cell_type": "markdown",
   "id": "27b1f6e6",
   "metadata": {},
   "source": [
    "б) Написать функцию для разделения хеш-таблицы на две, где первая будет содержать элементы с четными ключами, а вторая — с нечетными."
   ]
  },
  {
   "cell_type": "code",
   "execution_count": 14,
   "id": "64a70f02",
   "metadata": {},
   "outputs": [
    {
     "name": "stdout",
     "output_type": "stream",
     "text": [
      "{67890: <__main__.Product object at 0x000001E4CA9808D0>, 23456: <__main__.Product object at 0x000001E4CA982D50>}\n",
      "{12345: <__main__.Product object at 0x000001E4CA927050>}\n"
     ]
    }
   ],
   "source": [
    "def split_hash_table(hash_table):\n",
    "    # функция для разделения хеш-таблицы на две, с четными ключами, с нечетными\n",
    "    even_hash_table = {}\n",
    "    odd_hash_table = {}\n",
    "\n",
    "    for key, value in hash_table.items():\n",
    "        if key % 2 == 0:\n",
    "            even_hash_table[key] = value\n",
    "        else:\n",
    "            odd_hash_table[key] = value\n",
    "\n",
    "    return even_hash_table, odd_hash_table\n",
    "\n",
    "print(split_hash_table(hash_table)[0])\n",
    "print(split_hash_table(hash_table)[1])"
   ]
  },
  {
   "cell_type": "markdown",
   "id": "eecf3074",
   "metadata": {},
   "source": [
    "в) Реализуйте хеш-таблицу для хранения информации о документах в архиве. Ключом является номер документа, значение — объект, содержащий информацию о документе (название, дата создания, автор и т.д.). Используйте метод разрешения коллизий методом цепочек и реализуйте возможность удаления элементов из таблицы."
   ]
  },
  {
   "cell_type": "code",
   "execution_count": 15,
   "id": "4a8cd4ee",
   "metadata": {},
   "outputs": [],
   "source": [
    "class Document(object):\n",
    "    def __init__(self, number, name, creation_date, author):\n",
    "        self.number = number\n",
    "        self.name = name\n",
    "        self.creation_date = creation_date\n",
    "        self.author = author\n"
   ]
  },
  {
   "cell_type": "code",
   "execution_count": 16,
   "id": "e320f65c",
   "metadata": {
    "scrolled": true
   },
   "outputs": [
    {
     "name": "stdout",
     "output_type": "stream",
     "text": [
      "{100: <__main__.Document object at 0x000001E4CA982D50>, 200: <__main__.Document object at 0x000001E4CA98C050>, 300: <__main__.Document object at 0x000001E4CA927050>}\n"
     ]
    }
   ],
   "source": [
    "# хеш таблица в виде словаря\n",
    "hash_table = {}\n",
    "\n",
    "hash_table[100] = Document(100, \"Document 1\", \"2023-03-08\", \"Author 1\")\n",
    "hash_table[200] = Document(200, \"Document 2\", \"2023-03-10\", \"Author 2\")\n",
    "hash_table[300] = Document(300, \"Document 3\", \"2023-03-12\", \"Author 3\")\n",
    "print(hash_table)\n"
   ]
  },
  {
   "cell_type": "code",
   "execution_count": 17,
   "id": "d031e0fe",
   "metadata": {},
   "outputs": [
    {
     "name": "stdout",
     "output_type": "stream",
     "text": [
      "{100: <__main__.Document object at 0x000001E4CA982D50>, 300: <__main__.Document object at 0x000001E4CA927050>}\n"
     ]
    }
   ],
   "source": [
    "# удаление элемента таблицы\n",
    "del hash_table[200]\n",
    "print(hash_table)\n"
   ]
  },
  {
   "cell_type": "code",
   "execution_count": null,
   "id": "0ab187c1",
   "metadata": {},
   "outputs": [],
   "source": []
  }
 ],
 "metadata": {
  "kernelspec": {
   "display_name": "Python 3 (ipykernel)",
   "language": "python",
   "name": "python3"
  },
  "language_info": {
   "codemirror_mode": {
    "name": "ipython",
    "version": 3
   },
   "file_extension": ".py",
   "mimetype": "text/x-python",
   "name": "python",
   "nbconvert_exporter": "python",
   "pygments_lexer": "ipython3",
   "version": "3.11.5"
  }
 },
 "nbformat": 4,
 "nbformat_minor": 5
}
